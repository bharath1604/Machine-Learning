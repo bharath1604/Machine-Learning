{
 "cells": [
  {
   "cell_type": "code",
   "execution_count": 1,
   "metadata": {},
   "outputs": [],
   "source": [
    "import numpy as np\n",
    "import pandas as pd\n",
    "import seaborn as sns\n",
    "import matplotlib.pyplot as plt"
   ]
  },
  {
   "cell_type": "code",
   "execution_count": 2,
   "metadata": {},
   "outputs": [],
   "source": [
    "from pathlib import Path"
   ]
  },
  {
   "cell_type": "code",
   "execution_count": 3,
   "metadata": {},
   "outputs": [],
   "source": [
    "from sklearn.utils import Bunch  ## Array,Target and Target names and so on."
   ]
  },
  {
   "cell_type": "code",
   "execution_count": 4,
   "metadata": {},
   "outputs": [],
   "source": [
    "from skimage.io import imread # to read the image\n",
    "from skimage.transform import resize\n",
    "import skimage as sk"
   ]
  },
  {
   "cell_type": "code",
   "execution_count": 5,
   "metadata": {},
   "outputs": [],
   "source": [
    "def generate_data(Location, dim=(64,64)):\n",
    "    \"\"\"We are Generating the data with different Dimensions of the data set and we are bring them into 24*24\"\"\"\n",
    "    \n",
    "    img_dir = Path(Location)\n",
    "    print(img_dir)\n",
    "    folder_dir = [directory for directory in img_dir.iterdir()]\n",
    "    print(folder_dir)\n",
    "    categories = [fo.name for fo in folder_dir]\n",
    "    print(categories)\n",
    "    \n",
    "    images = []\n",
    "    image_data = []\n",
    "    target = []\n",
    "    \n",
    "    desc = \"Image Generation\"\n",
    "    \n",
    "    for i, direc in enumerate(folder_dir):\n",
    "        # print(i,direc)\n",
    "        for files in direc.iterdir():\n",
    "            # print(files)\n",
    "            img = imread(files)\n",
    "            img_resize = resize(img,dim)\n",
    "            images.append(img_resize)\n",
    "            image_data.append(img_resize.flatten())\n",
    "            target.append(i)\n",
    "            \n",
    "    # Covering list data into array Format\n",
    "    flat_data = np.array(image_data)\n",
    "    target = np.array(target)\n",
    "    images = np.array(images)\n",
    "    return Bunch(data = flat_data,\n",
    "                target = target,\n",
    "                target_names = categories,\n",
    "                images = images,\n",
    "                desc = desc)\n",
    "            \n",
    " "
   ]
  },
  {
   "cell_type": "code",
   "execution_count": 6,
   "metadata": {},
   "outputs": [
    {
     "name": "stdout",
     "output_type": "stream",
     "text": [
      "Fruits\n",
      "[WindowsPath('Fruits/guava'), WindowsPath('Fruits/lemon')]\n",
      "['guava', 'lemon']\n"
     ]
    },
    {
     "data": {
      "text/plain": [
       "{'data': array([[0.23188955, 0.2817402 , 0.08235294, ..., 0.23590686, 0.24375   ,\n",
       "         0.10196078],\n",
       "        [0.45882353, 0.5451057 , 0.34522825, ..., 0.43553922, 0.51776961,\n",
       "         0.26275276],\n",
       "        [0.12573529, 0.11764706, 0.04338235, ..., 0.56470588, 0.66666667,\n",
       "         0.26642157],\n",
       "        ...,\n",
       "        [0.48210736, 0.62745098, 0.27058824, ..., 0.24540441, 0.40618873,\n",
       "         0.1526956 ],\n",
       "        [0.48156403, 0.64227941, 0.23946078, ..., 0.24723499, 0.3335095 ,\n",
       "         0.08235294],\n",
       "        [0.17254902, 0.24422727, 0.10196078, ..., 0.484375  , 0.57348106,\n",
       "         0.3254902 ]]),\n",
       " 'target': array([0, 0, 0, 0, 0, 0, 0, 0, 0, 0, 0, 0, 0, 0, 0, 0, 0, 0, 0, 0, 0, 0,\n",
       "        0, 0, 0, 0, 0, 0, 0, 0, 0, 0, 0, 0, 0, 0, 0, 0, 0, 0, 0, 0, 0, 0,\n",
       "        0, 0, 0, 0, 0, 0, 0, 0, 0, 0, 0, 0, 0, 0, 0, 0, 0, 0, 0, 0, 0, 1,\n",
       "        1, 1, 1, 1, 1, 1, 1, 1, 1, 1, 1, 1, 1, 1, 1, 1, 1, 1, 1, 1, 1, 1,\n",
       "        1, 1, 1, 1, 1, 1, 1, 1, 1, 1, 1, 1, 1, 1, 1, 1, 1, 1, 1, 1, 1, 1,\n",
       "        1, 1, 1, 1, 1, 1, 1, 1, 1, 1]),\n",
       " 'target_names': ['guava', 'lemon'],\n",
       " 'images': array([[[[0.23188955, 0.2817402 , 0.08235294],\n",
       "          [0.27843137, 0.3432598 , 0.11764706],\n",
       "          [0.2627451 , 0.33712086, 0.10196078],\n",
       "          ...,\n",
       "          [0.25943627, 0.33333333, 0.05098039],\n",
       "          [0.25882353, 0.32941176, 0.05098039],\n",
       "          [0.25882353, 0.32941176, 0.05098039]],\n",
       " \n",
       "         [[0.2787186 , 0.3372549 , 0.11401271],\n",
       "          [0.27058824, 0.33823146, 0.10980392],\n",
       "          [0.25842142, 0.33247549, 0.10155867],\n",
       "          ...,\n",
       "          [0.26666667, 0.33765702, 0.04705882],\n",
       "          [0.26666667, 0.33333333, 0.04705882],\n",
       "          [0.26666667, 0.3372549 , 0.05098039]],\n",
       " \n",
       "         [[0.26360294, 0.33346737, 0.10601639],\n",
       "          [0.24935279, 0.3254902 , 0.09641161],\n",
       "          [0.2385455 , 0.31697687, 0.08560432],\n",
       "          ...,\n",
       "          [0.2745098 , 0.34509804, 0.05490196],\n",
       "          [0.26666667, 0.33541667, 0.05098039],\n",
       "          [0.26666667, 0.3372549 , 0.05098039]],\n",
       " \n",
       "         ...,\n",
       " \n",
       "         [[0.48235294, 0.52941176, 0.27058824],\n",
       "          [0.47099035, 0.51804917, 0.26066176],\n",
       "          [0.46666667, 0.51372549, 0.25098039],\n",
       "          ...,\n",
       "          [0.2627451 , 0.2814951 , 0.11678922],\n",
       "          [0.27405407, 0.30110294, 0.11678922],\n",
       "          [0.29387255, 0.32903263, 0.12463235]],\n",
       " \n",
       "         [[0.48235294, 0.52941176, 0.27058824],\n",
       "          [0.47634804, 0.52340686, 0.26458333],\n",
       "          [0.47058824, 0.51764706, 0.25490196],\n",
       "          ...,\n",
       "          [0.24889706, 0.2567402 , 0.10980392],\n",
       "          [0.25098039, 0.26360677, 0.10588235],\n",
       "          [0.25518919, 0.27459023, 0.10616958]],\n",
       " \n",
       "         [[0.48235294, 0.52941176, 0.27058824],\n",
       "          [0.48235294, 0.52941176, 0.27058824],\n",
       "          [0.47843137, 0.5254902 , 0.26666667],\n",
       "          ...,\n",
       "          [0.23198529, 0.23590686, 0.10196078],\n",
       "          [0.23198529, 0.23921569, 0.09803922],\n",
       "          [0.23590686, 0.24375   , 0.10196078]]],\n",
       " \n",
       " \n",
       "        [[[0.45882353, 0.5451057 , 0.34522825],\n",
       "          [0.47073376, 0.56176471, 0.35725337],\n",
       "          [0.46960784, 0.56887255, 0.34301471],\n",
       "          ...,\n",
       "          [0.30306373, 0.39215686, 0.06266085],\n",
       "          [0.29090839, 0.39595588, 0.05480239],\n",
       "          [0.29007353, 0.4       , 0.05098039]],\n",
       " \n",
       "         [[0.43137255, 0.50196078, 0.27095588],\n",
       "          [0.45526961, 0.5265242 , 0.27879902],\n",
       "          [0.48946078, 0.57292433, 0.33456648],\n",
       "          ...,\n",
       "          [0.35893842, 0.4372549 , 0.08198529],\n",
       "          [0.36789216, 0.46519608, 0.07058824],\n",
       "          [0.37536765, 0.47769608, 0.0627451 ]],\n",
       " \n",
       "         [[0.41654412, 0.48651961, 0.22438725],\n",
       "          [0.50098039, 0.58210018, 0.3363894 ],\n",
       "          [0.5810049 , 0.65551471, 0.45735294],\n",
       "          ...,\n",
       "          [0.41157322, 0.50054381, 0.13002451],\n",
       "          [0.43848039, 0.54436275, 0.10146293],\n",
       "          [0.47365196, 0.58345588, 0.08570006]],\n",
       " \n",
       "         ...,\n",
       " \n",
       "         [[0.45134804, 0.52977941, 0.29836857],\n",
       "          [0.41949295, 0.50072763, 0.26543352],\n",
       "          [0.41507353, 0.49742647, 0.2662454 ],\n",
       "          ...,\n",
       "          [0.46171109, 0.55975031, 0.27781863],\n",
       "          [0.4745098 , 0.5681296 , 0.29361979],\n",
       "          [0.42981771, 0.52393536, 0.24178922]],\n",
       " \n",
       "         [[0.54568781, 0.59630055, 0.37220435],\n",
       "          [0.42561275, 0.48909314, 0.25017616],\n",
       "          [0.38002451, 0.46237745, 0.22327665],\n",
       "          ...,\n",
       "          [0.4370098 , 0.53101256, 0.24067862],\n",
       "          [0.36544118, 0.46311275, 0.15367647],\n",
       "          [0.32514553, 0.40806526, 0.13703278]],\n",
       " \n",
       "         [[0.59179688, 0.63897059, 0.41152727],\n",
       "          [0.52032016, 0.58308824, 0.35955882],\n",
       "          [0.42912837, 0.50768229, 0.28406863],\n",
       "          ...,\n",
       "          [0.39889706, 0.48517157, 0.19497549],\n",
       "          [0.4192402 , 0.50159314, 0.22708333],\n",
       "          [0.43553922, 0.51776961, 0.26275276]]],\n",
       " \n",
       " \n",
       "        [[[0.12573529, 0.11764706, 0.04338235],\n",
       "          [0.12166054, 0.11764706, 0.03921569],\n",
       "          [0.11372549, 0.12303922, 0.03921569],\n",
       "          ...,\n",
       "          [0.41470588, 0.58186275, 0.17956495],\n",
       "          [0.38431373, 0.5609375 , 0.15686275],\n",
       "          [0.37647059, 0.54852941, 0.15318627]],\n",
       " \n",
       "         [[0.10980392, 0.09411765, 0.03529412],\n",
       "          [0.10980392, 0.10441176, 0.03529412],\n",
       "          [0.12083333, 0.14071691, 0.04659926],\n",
       "          ...,\n",
       "          [0.40392157, 0.57254902, 0.17254902],\n",
       "          [0.38676471, 0.5625    , 0.1666973 ],\n",
       "          [0.36078431, 0.54117647, 0.13676471]],\n",
       " \n",
       "         [[0.10196078, 0.0859375 , 0.03137255],\n",
       "          [0.11617647, 0.12356005, 0.04313725],\n",
       "          [0.14610907, 0.19779412, 0.0676777 ],\n",
       "          ...,\n",
       "          [0.38507966, 0.56155025, 0.16470588],\n",
       "          [0.38946078, 0.56470588, 0.16369485],\n",
       "          [0.37254902, 0.54901961, 0.14068627]],\n",
       " \n",
       "         ...,\n",
       " \n",
       "         [[0.46822917, 0.60799632, 0.20407475],\n",
       "          [0.44705882, 0.58869485, 0.18946078],\n",
       "          [0.44705882, 0.5799326 , 0.19215686],\n",
       "          ...,\n",
       "          [0.37941176, 0.46936275, 0.16102941],\n",
       "          [0.33578431, 0.45098039, 0.13333333],\n",
       "          [0.31887255, 0.45113358, 0.12671569]],\n",
       " \n",
       "         [[0.47843137, 0.61176471, 0.20784314],\n",
       "          [0.47916667, 0.60811887, 0.21176471],\n",
       "          [0.47745098, 0.59289216, 0.19289216],\n",
       "          ...,\n",
       "          [0.37009804, 0.4877451 , 0.14583333],\n",
       "          [0.36446078, 0.48602941, 0.14803922],\n",
       "          [0.39044118, 0.5120098 , 0.17009804]],\n",
       " \n",
       "         [[0.60027574, 0.6745098 , 0.29831495],\n",
       "          [0.62426471, 0.69068627, 0.32613358],\n",
       "          [0.6515625 , 0.70612745, 0.3375    ],\n",
       "          ...,\n",
       "          [0.58112745, 0.68284314, 0.29460784],\n",
       "          [0.57941176, 0.67892157, 0.2864277 ],\n",
       "          [0.56470588, 0.66666667, 0.26642157]]],\n",
       " \n",
       " \n",
       "        ...,\n",
       " \n",
       " \n",
       "        [[[0.48210736, 0.62745098, 0.27058824],\n",
       "          [0.55346201, 0.65882353, 0.26666667],\n",
       "          [0.55585172, 0.67058824, 0.24089834],\n",
       "          ...,\n",
       "          [0.16862745, 0.29142396, 0.10588235],\n",
       "          [0.18731761, 0.31372549, 0.12383578],\n",
       "          [0.2       , 0.31764706, 0.1254902 ]],\n",
       " \n",
       "         [[0.48235294, 0.63137255, 0.24255515],\n",
       "          [0.50934005, 0.64313725, 0.25882353],\n",
       "          [0.5450674 , 0.64209559, 0.25098039],\n",
       "          ...,\n",
       "          [0.16470588, 0.30121831, 0.09019608],\n",
       "          [0.18606005, 0.32156863, 0.09803922],\n",
       "          [0.21960784, 0.3372549 , 0.11372549]],\n",
       " \n",
       "         [[0.50196078, 0.65098039, 0.25098039],\n",
       "          [0.46666667, 0.63137255, 0.25490196],\n",
       "          [0.49120711, 0.61960784, 0.27058824],\n",
       "          ...,\n",
       "          [0.17647059, 0.32560078, 0.08760388],\n",
       "          [0.18998162, 0.33333333, 0.08825875],\n",
       "          [0.21960784, 0.34503437, 0.10980392]],\n",
       " \n",
       "         ...,\n",
       " \n",
       "         [[0.29782236, 0.4229473 , 0.18808211],\n",
       "          [0.36276855, 0.48670343, 0.24356618],\n",
       "          [0.27000613, 0.39024539, 0.15628064],\n",
       "          ...,\n",
       "          [0.3234801 , 0.4869672 , 0.19666054],\n",
       "          [0.1825674 , 0.32374387, 0.10176978],\n",
       "          [0.24022672, 0.38198529, 0.13428069]],\n",
       " \n",
       "         [[0.34797794, 0.49742503, 0.19895833],\n",
       "          [0.29690564, 0.42759986, 0.18318015],\n",
       "          [0.21886537, 0.34587115, 0.12082615],\n",
       "          ...,\n",
       "          [0.32650123, 0.48832721, 0.2166973 ],\n",
       "          [0.20171138, 0.35015319, 0.1198223 ],\n",
       "          [0.19231149, 0.33783701, 0.10735151]],\n",
       " \n",
       "         [[0.39641496, 0.58290489, 0.22212058],\n",
       "          [0.30863827, 0.4685049 , 0.17355861],\n",
       "          [0.23756127, 0.37604406, 0.14344363],\n",
       "          ...,\n",
       "          [0.29019608, 0.45490196, 0.19215686],\n",
       "          [0.26200837, 0.42279268, 0.17181229],\n",
       "          [0.24540441, 0.40618873, 0.1526956 ]]],\n",
       " \n",
       " \n",
       "        [[[0.48156403, 0.64227941, 0.23946078],\n",
       "          [0.51691176, 0.66593137, 0.27058824],\n",
       "          [0.48897059, 0.64899663, 0.27146906],\n",
       "          ...,\n",
       "          [0.46789216, 0.61568627, 0.25098039],\n",
       "          [0.45261183, 0.60784314, 0.23529412],\n",
       "          [0.45490196, 0.60784314, 0.23529412]],\n",
       " \n",
       "         [[0.44730392, 0.61593137, 0.21985294],\n",
       "          [0.52107077, 0.67058824, 0.27513021],\n",
       "          [0.49639246, 0.65098039, 0.27058824],\n",
       "          ...,\n",
       "          [0.4745098 , 0.61960784, 0.23921569],\n",
       "          [0.46543352, 0.61176471, 0.22352941],\n",
       "          [0.46997549, 0.61568627, 0.23137255]],\n",
       " \n",
       "         [[0.45664063, 0.61742494, 0.24080882],\n",
       "          [0.51708793, 0.66740196, 0.2752451 ],\n",
       "          [0.5125    , 0.66434589, 0.27843137],\n",
       "          ...,\n",
       "          [0.48627451, 0.62745098, 0.22745098],\n",
       "          [0.4752451 , 0.61990656, 0.21568627],\n",
       "          [0.46666667, 0.61017157, 0.22179075]],\n",
       " \n",
       "         ...,\n",
       " \n",
       "         [[0.65688572, 0.83176317, 0.41985294],\n",
       "          [0.52837776, 0.6890242 , 0.25153952],\n",
       "          [0.41629136, 0.57365196, 0.13726256],\n",
       "          ...,\n",
       "          [0.22745098, 0.31445313, 0.0745098 ],\n",
       "          [0.22977941, 0.31764706, 0.07843137],\n",
       "          [0.22759651, 0.31764706, 0.07465533]],\n",
       " \n",
       "         [[0.67867647, 0.86687347, 0.40314798],\n",
       "          [0.675     , 0.85073529, 0.42670803],\n",
       "          [0.55129442, 0.70796569, 0.27328431],\n",
       "          ...,\n",
       "          [0.24086244, 0.32713695, 0.08235294],\n",
       "          [0.23590686, 0.32218137, 0.07843137],\n",
       "          [0.23979013, 0.32606464, 0.08235294]],\n",
       " \n",
       "         [[0.62897518, 0.82769608, 0.30066636],\n",
       "          [0.69877451, 0.88627451, 0.40596661],\n",
       "          [0.68002451, 0.85615043, 0.41335784],\n",
       "          ...,\n",
       "          [0.25806526, 0.34240196, 0.09019608],\n",
       "          [0.24987745, 0.33615196, 0.08627451],\n",
       "          [0.24723499, 0.3335095 , 0.08235294]]],\n",
       " \n",
       " \n",
       "        [[[0.17254902, 0.24422727, 0.10196078],\n",
       "          [0.18039216, 0.25490196, 0.11105191],\n",
       "          [0.16862745, 0.25098039, 0.10257688],\n",
       "          ...,\n",
       "          [0.86225155, 0.83219975, 0.7989277 ],\n",
       "          [0.80392157, 0.76595387, 0.71816789],\n",
       "          [0.77457108, 0.73143382, 0.68045343]],\n",
       " \n",
       "         [[0.17647059, 0.25490196, 0.10588235],\n",
       "          [0.18039216, 0.2627451 , 0.11372549],\n",
       "          [0.17254902, 0.26488971, 0.11194853],\n",
       "          ...,\n",
       "          [0.91133578, 0.89833554, 0.87723652],\n",
       "          [0.81094372, 0.77889093, 0.73575368],\n",
       "          [0.81080681, 0.77353755, 0.72845387]],\n",
       " \n",
       "         [[0.18823529, 0.27058824, 0.11991422],\n",
       "          [0.18658088, 0.27058824, 0.12156863],\n",
       "          [0.19215686, 0.28235294, 0.12941176],\n",
       "          ...,\n",
       "          [0.87104779, 0.85928309, 0.83455882],\n",
       "          [0.77952426, 0.74675245, 0.70690344],\n",
       "          [0.85278799, 0.8303036 , 0.78915106]],\n",
       " \n",
       "         ...,\n",
       " \n",
       "         [[0.37647059, 0.50196078, 0.32156863],\n",
       "          [0.36470588, 0.49411765, 0.30588235],\n",
       "          [0.35528636, 0.48627451, 0.29070016],\n",
       "          ...,\n",
       "          [0.5973178 , 0.69093137, 0.46897834],\n",
       "          [0.76305147, 0.82971814, 0.56939338],\n",
       "          [0.60272336, 0.69004289, 0.36379012]],\n",
       " \n",
       "         [[0.37254902, 0.50196078, 0.3254902 ],\n",
       "          [0.37254902, 0.50196078, 0.320245  ],\n",
       "          [0.36862745, 0.49981618, 0.31372549],\n",
       "          ...,\n",
       "          [0.53394608, 0.66786152, 0.45787377],\n",
       "          [0.66178912, 0.75508578, 0.50438113],\n",
       "          [0.62175245, 0.70621936, 0.41684235]],\n",
       " \n",
       "         [[0.36470588, 0.49411765, 0.32156863],\n",
       "          [0.37647059, 0.5083027 , 0.33648083],\n",
       "          [0.37506463, 0.50588235, 0.3254902 ],\n",
       "          ...,\n",
       "          [0.43079044, 0.5786152 , 0.40272336],\n",
       "          [0.48247549, 0.57978755, 0.37711397],\n",
       "          [0.484375  , 0.57348106, 0.3254902 ]]]]),\n",
       " 'desc': 'Image Generation'}"
      ]
     },
     "execution_count": 6,
     "metadata": {},
     "output_type": "execute_result"
    }
   ],
   "source": [
    "Dataset = generate_data(\"Fruits\")\n",
    "Dataset"
   ]
  },
  {
   "cell_type": "code",
   "execution_count": 7,
   "metadata": {},
   "outputs": [
    {
     "data": {
      "text/plain": [
       "dict_keys(['data', 'target', 'target_names', 'images', 'desc'])"
      ]
     },
     "execution_count": 7,
     "metadata": {},
     "output_type": "execute_result"
    }
   ],
   "source": [
    "Dataset.keys()"
   ]
  },
  {
   "cell_type": "code",
   "execution_count": 8,
   "metadata": {},
   "outputs": [
    {
     "data": {
      "text/plain": [
       "(120, 12288)"
      ]
     },
     "execution_count": 8,
     "metadata": {},
     "output_type": "execute_result"
    }
   ],
   "source": [
    "Dataset.data.shape"
   ]
  },
  {
   "cell_type": "code",
   "execution_count": 9,
   "metadata": {},
   "outputs": [
    {
     "data": {
      "text/plain": [
       "(120,)"
      ]
     },
     "execution_count": 9,
     "metadata": {},
     "output_type": "execute_result"
    }
   ],
   "source": [
    "Dataset.target.shape"
   ]
  },
  {
   "cell_type": "code",
   "execution_count": 10,
   "metadata": {},
   "outputs": [
    {
     "data": {
      "text/plain": [
       "['guava', 'lemon']"
      ]
     },
     "execution_count": 10,
     "metadata": {},
     "output_type": "execute_result"
    }
   ],
   "source": [
    "Dataset.target_names"
   ]
  },
  {
   "cell_type": "code",
   "execution_count": 11,
   "metadata": {},
   "outputs": [],
   "source": [
    "x = Dataset.data"
   ]
  },
  {
   "cell_type": "code",
   "execution_count": 12,
   "metadata": {},
   "outputs": [
    {
     "data": {
      "text/plain": [
       "array([[0.23188955, 0.2817402 , 0.08235294, ..., 0.23590686, 0.24375   ,\n",
       "        0.10196078],\n",
       "       [0.45882353, 0.5451057 , 0.34522825, ..., 0.43553922, 0.51776961,\n",
       "        0.26275276],\n",
       "       [0.12573529, 0.11764706, 0.04338235, ..., 0.56470588, 0.66666667,\n",
       "        0.26642157],\n",
       "       ...,\n",
       "       [0.48210736, 0.62745098, 0.27058824, ..., 0.24540441, 0.40618873,\n",
       "        0.1526956 ],\n",
       "       [0.48156403, 0.64227941, 0.23946078, ..., 0.24723499, 0.3335095 ,\n",
       "        0.08235294],\n",
       "       [0.17254902, 0.24422727, 0.10196078, ..., 0.484375  , 0.57348106,\n",
       "        0.3254902 ]])"
      ]
     },
     "execution_count": 12,
     "metadata": {},
     "output_type": "execute_result"
    }
   ],
   "source": [
    "x"
   ]
  },
  {
   "cell_type": "code",
   "execution_count": 13,
   "metadata": {},
   "outputs": [
    {
     "data": {
      "text/plain": [
       "array([0, 0, 0, 0, 0, 0, 0, 0, 0, 0, 0, 0, 0, 0, 0, 0, 0, 0, 0, 0, 0, 0,\n",
       "       0, 0, 0, 0, 0, 0, 0, 0, 0, 0, 0, 0, 0, 0, 0, 0, 0, 0, 0, 0, 0, 0,\n",
       "       0, 0, 0, 0, 0, 0, 0, 0, 0, 0, 0, 0, 0, 0, 0, 0, 0, 0, 0, 0, 0, 1,\n",
       "       1, 1, 1, 1, 1, 1, 1, 1, 1, 1, 1, 1, 1, 1, 1, 1, 1, 1, 1, 1, 1, 1,\n",
       "       1, 1, 1, 1, 1, 1, 1, 1, 1, 1, 1, 1, 1, 1, 1, 1, 1, 1, 1, 1, 1, 1,\n",
       "       1, 1, 1, 1, 1, 1, 1, 1, 1, 1])"
      ]
     },
     "execution_count": 13,
     "metadata": {},
     "output_type": "execute_result"
    }
   ],
   "source": [
    "y = Dataset.target\n",
    "y"
   ]
  },
  {
   "cell_type": "code",
   "execution_count": 14,
   "metadata": {},
   "outputs": [
    {
     "data": {
      "text/plain": [
       "(120, 12288)"
      ]
     },
     "execution_count": 14,
     "metadata": {},
     "output_type": "execute_result"
    }
   ],
   "source": [
    "x.shape"
   ]
  },
  {
   "cell_type": "code",
   "execution_count": 15,
   "metadata": {},
   "outputs": [
    {
     "data": {
      "text/plain": [
       "(120,)"
      ]
     },
     "execution_count": 15,
     "metadata": {},
     "output_type": "execute_result"
    }
   ],
   "source": [
    "y.shape"
   ]
  },
  {
   "cell_type": "code",
   "execution_count": 16,
   "metadata": {},
   "outputs": [
    {
     "data": {
      "text/plain": [
       "<matplotlib.axes._subplots.AxesSubplot at 0x15680b554c8>"
      ]
     },
     "execution_count": 16,
     "metadata": {},
     "output_type": "execute_result"
    },
    {
     "data": {
      "image/png": "[encoded data removed]",
      "text/plain": [
       "<Figure size 432x288 with 1 Axes>"
      ]
     },
     "metadata": {
      "needs_background": "light"
     },
     "output_type": "display_data"
    }
   ],
   "source": [
    "sns.distplot(Dataset.data)"
   ]
  },
  {
   "cell_type": "code",
   "execution_count": 17,
   "metadata": {},
   "outputs": [],
   "source": [
    "from sklearn.model_selection import train_test_split"
   ]
  },
  {
   "cell_type": "code",
   "execution_count": 18,
   "metadata": {},
   "outputs": [],
   "source": [
    "x_train,x_test,y_train,y_test =train_test_split(x,y)"
   ]
  },
  {
   "cell_type": "code",
   "execution_count": 19,
   "metadata": {},
   "outputs": [
    {
     "data": {
      "text/plain": [
       "((30, 12288), (90, 12288), (30,), (90,))"
      ]
     },
     "execution_count": 19,
     "metadata": {},
     "output_type": "execute_result"
    }
   ],
   "source": [
    "x_test.shape,x_train.shape,y_test.shape,y_train.shape"
   ]
  },
  {
   "cell_type": "code",
   "execution_count": 20,
   "metadata": {},
   "outputs": [],
   "source": [
    "from sklearn.linear_model import LogisticRegression"
   ]
  },
  {
   "cell_type": "code",
   "execution_count": 21,
   "metadata": {},
   "outputs": [
    {
     "data": {
      "text/plain": [
       "LogisticRegression(C=1.0, class_weight=None, dual=False, fit_intercept=True,\n",
       "                   intercept_scaling=1, l1_ratio=None, max_iter=1000,\n",
       "                   multi_class='auto', n_jobs=None, penalty='l2',\n",
       "                   random_state=None, solver='lbfgs', tol=0.0001, verbose=0,\n",
       "                   warm_start=False)"
      ]
     },
     "execution_count": 21,
     "metadata": {},
     "output_type": "execute_result"
    }
   ],
   "source": [
    "lr = LogisticRegression(max_iter=1000)\n",
    "lr"
   ]
  },
  {
   "cell_type": "code",
   "execution_count": 22,
   "metadata": {},
   "outputs": [
    {
     "data": {
      "text/plain": [
       "LogisticRegression(C=1.0, class_weight=None, dual=False, fit_intercept=True,\n",
       "                   intercept_scaling=1, l1_ratio=None, max_iter=1000,\n",
       "                   multi_class='auto', n_jobs=None, penalty='l2',\n",
       "                   random_state=None, solver='lbfgs', tol=0.0001, verbose=0,\n",
       "                   warm_start=False)"
      ]
     },
     "execution_count": 22,
     "metadata": {},
     "output_type": "execute_result"
    }
   ],
   "source": [
    "lr.fit(x_train,y_train)"
   ]
  },
  {
   "cell_type": "code",
   "execution_count": 23,
   "metadata": {},
   "outputs": [],
   "source": [
    "yhat = lr.predict(x_test)"
   ]
  },
  {
   "cell_type": "code",
   "execution_count": 24,
   "metadata": {},
   "outputs": [
    {
     "data": {
      "text/html": [
       "<div>\n",
       "<style scoped>\n",
       "    .dataframe tbody tr th:only-of-type {\n",
       "        vertical-align: middle;\n",
       "    }\n",
       "\n",
       "    .dataframe tbody tr th {\n",
       "        vertical-align: top;\n",
       "    }\n",
       "\n",
       "    .dataframe thead th {\n",
       "        text-align: right;\n",
       "    }\n",
       "</style>\n",
       "<table border=\"1\" class=\"dataframe\">\n",
       "  <thead>\n",
       "    <tr style=\"text-align: right;\">\n",
       "      <th></th>\n",
       "      <th>Actual</th>\n",
       "      <th>New</th>\n",
       "      <th>Both are equal</th>\n",
       "    </tr>\n",
       "  </thead>\n",
       "  <tbody>\n",
       "    <tr>\n",
       "      <th>0</th>\n",
       "      <td>0</td>\n",
       "      <td>0</td>\n",
       "      <td>True</td>\n",
       "    </tr>\n",
       "    <tr>\n",
       "      <th>1</th>\n",
       "      <td>1</td>\n",
       "      <td>1</td>\n",
       "      <td>True</td>\n",
       "    </tr>\n",
       "    <tr>\n",
       "      <th>2</th>\n",
       "      <td>1</td>\n",
       "      <td>0</td>\n",
       "      <td>False</td>\n",
       "    </tr>\n",
       "    <tr>\n",
       "      <th>3</th>\n",
       "      <td>1</td>\n",
       "      <td>1</td>\n",
       "      <td>True</td>\n",
       "    </tr>\n",
       "    <tr>\n",
       "      <th>4</th>\n",
       "      <td>1</td>\n",
       "      <td>1</td>\n",
       "      <td>True</td>\n",
       "    </tr>\n",
       "    <tr>\n",
       "      <th>5</th>\n",
       "      <td>0</td>\n",
       "      <td>0</td>\n",
       "      <td>True</td>\n",
       "    </tr>\n",
       "    <tr>\n",
       "      <th>6</th>\n",
       "      <td>0</td>\n",
       "      <td>0</td>\n",
       "      <td>True</td>\n",
       "    </tr>\n",
       "    <tr>\n",
       "      <th>7</th>\n",
       "      <td>0</td>\n",
       "      <td>0</td>\n",
       "      <td>True</td>\n",
       "    </tr>\n",
       "    <tr>\n",
       "      <th>8</th>\n",
       "      <td>0</td>\n",
       "      <td>0</td>\n",
       "      <td>True</td>\n",
       "    </tr>\n",
       "    <tr>\n",
       "      <th>9</th>\n",
       "      <td>0</td>\n",
       "      <td>0</td>\n",
       "      <td>True</td>\n",
       "    </tr>\n",
       "    <tr>\n",
       "      <th>10</th>\n",
       "      <td>0</td>\n",
       "      <td>0</td>\n",
       "      <td>True</td>\n",
       "    </tr>\n",
       "    <tr>\n",
       "      <th>11</th>\n",
       "      <td>1</td>\n",
       "      <td>1</td>\n",
       "      <td>True</td>\n",
       "    </tr>\n",
       "    <tr>\n",
       "      <th>12</th>\n",
       "      <td>1</td>\n",
       "      <td>1</td>\n",
       "      <td>True</td>\n",
       "    </tr>\n",
       "    <tr>\n",
       "      <th>13</th>\n",
       "      <td>1</td>\n",
       "      <td>1</td>\n",
       "      <td>True</td>\n",
       "    </tr>\n",
       "    <tr>\n",
       "      <th>14</th>\n",
       "      <td>0</td>\n",
       "      <td>0</td>\n",
       "      <td>True</td>\n",
       "    </tr>\n",
       "    <tr>\n",
       "      <th>15</th>\n",
       "      <td>0</td>\n",
       "      <td>0</td>\n",
       "      <td>True</td>\n",
       "    </tr>\n",
       "    <tr>\n",
       "      <th>16</th>\n",
       "      <td>1</td>\n",
       "      <td>1</td>\n",
       "      <td>True</td>\n",
       "    </tr>\n",
       "    <tr>\n",
       "      <th>17</th>\n",
       "      <td>1</td>\n",
       "      <td>0</td>\n",
       "      <td>False</td>\n",
       "    </tr>\n",
       "    <tr>\n",
       "      <th>18</th>\n",
       "      <td>1</td>\n",
       "      <td>1</td>\n",
       "      <td>True</td>\n",
       "    </tr>\n",
       "    <tr>\n",
       "      <th>19</th>\n",
       "      <td>1</td>\n",
       "      <td>1</td>\n",
       "      <td>True</td>\n",
       "    </tr>\n",
       "    <tr>\n",
       "      <th>20</th>\n",
       "      <td>1</td>\n",
       "      <td>0</td>\n",
       "      <td>False</td>\n",
       "    </tr>\n",
       "    <tr>\n",
       "      <th>21</th>\n",
       "      <td>0</td>\n",
       "      <td>0</td>\n",
       "      <td>True</td>\n",
       "    </tr>\n",
       "    <tr>\n",
       "      <th>22</th>\n",
       "      <td>0</td>\n",
       "      <td>0</td>\n",
       "      <td>True</td>\n",
       "    </tr>\n",
       "    <tr>\n",
       "      <th>23</th>\n",
       "      <td>0</td>\n",
       "      <td>0</td>\n",
       "      <td>True</td>\n",
       "    </tr>\n",
       "    <tr>\n",
       "      <th>24</th>\n",
       "      <td>1</td>\n",
       "      <td>1</td>\n",
       "      <td>True</td>\n",
       "    </tr>\n",
       "    <tr>\n",
       "      <th>25</th>\n",
       "      <td>0</td>\n",
       "      <td>0</td>\n",
       "      <td>True</td>\n",
       "    </tr>\n",
       "    <tr>\n",
       "      <th>26</th>\n",
       "      <td>1</td>\n",
       "      <td>0</td>\n",
       "      <td>False</td>\n",
       "    </tr>\n",
       "    <tr>\n",
       "      <th>27</th>\n",
       "      <td>1</td>\n",
       "      <td>1</td>\n",
       "      <td>True</td>\n",
       "    </tr>\n",
       "    <tr>\n",
       "      <th>28</th>\n",
       "      <td>0</td>\n",
       "      <td>0</td>\n",
       "      <td>True</td>\n",
       "    </tr>\n",
       "    <tr>\n",
       "      <th>29</th>\n",
       "      <td>1</td>\n",
       "      <td>1</td>\n",
       "      <td>True</td>\n",
       "    </tr>\n",
       "  </tbody>\n",
       "</table>\n",
       "</div>"
      ],
      "text/plain": [
       "    Actual  New  Both are equal\n",
       "0        0    0            True\n",
       "1        1    1            True\n",
       "2        1    0           False\n",
       "3        1    1            True\n",
       "4        1    1            True\n",
       "5        0    0            True\n",
       "6        0    0            True\n",
       "7        0    0            True\n",
       "8        0    0            True\n",
       "9        0    0            True\n",
       "10       0    0            True\n",
       "11       1    1            True\n",
       "12       1    1            True\n",
       "13       1    1            True\n",
       "14       0    0            True\n",
       "15       0    0            True\n",
       "16       1    1            True\n",
       "17       1    0           False\n",
       "18       1    1            True\n",
       "19       1    1            True\n",
       "20       1    0           False\n",
       "21       0    0            True\n",
       "22       0    0            True\n",
       "23       0    0            True\n",
       "24       1    1            True\n",
       "25       0    0            True\n",
       "26       1    0           False\n",
       "27       1    1            True\n",
       "28       0    0            True\n",
       "29       1    1            True"
      ]
     },
     "execution_count": 24,
     "metadata": {},
     "output_type": "execute_result"
    }
   ],
   "source": [
    "pd.DataFrame({'Actual':y_test,\n",
    "             'New':yhat,\n",
    "             'Both are equal':y_test==yhat})"
   ]
  },
  {
   "cell_type": "code",
   "execution_count": 25,
   "metadata": {},
   "outputs": [],
   "source": [
    "from sklearn.metrics import classification_report,confusion_matrix,plot_confusion_matrix"
   ]
  },
  {
   "cell_type": "code",
   "execution_count": 26,
   "metadata": {},
   "outputs": [],
   "source": [
    "cm = confusion_matrix(y_test,yhat)"
   ]
  },
  {
   "cell_type": "code",
   "execution_count": 27,
   "metadata": {},
   "outputs": [
    {
     "data": {
      "text/plain": [
       "<matplotlib.axes._subplots.AxesSubplot at 0x1568269fa48>"
      ]
     },
     "execution_count": 27,
     "metadata": {},
     "output_type": "execute_result"
    },
    {
     "data": {
      "image/png": "[encoded data removed]",
      "text/plain": [
       "<Figure size 432x288 with 2 Axes>"
      ]
     },
     "metadata": {
      "needs_background": "light"
     },
     "output_type": "display_data"
    }
   ],
   "source": [
    "sns.heatmap(cm,annot=True)"
   ]
  },
  {
   "cell_type": "code",
   "execution_count": 28,
   "metadata": {},
   "outputs": [
    {
     "data": {
      "text/plain": [
       "<sklearn.metrics._plot.confusion_matrix.ConfusionMatrixDisplay at 0x15680c5e9c8>"
      ]
     },
     "execution_count": 28,
     "metadata": {},
     "output_type": "execute_result"
    },
    {
     "data": {
      "image/png": "[encoded data removed]",
      "text/plain": [
       "<Figure size 432x288 with 2 Axes>"
      ]
     },
     "metadata": {
      "needs_background": "light"
     },
     "output_type": "display_data"
    }
   ],
   "source": [
    "plot_confusion_matrix(lr,x_train,y_train)"
   ]
  },
  {
   "cell_type": "code",
   "execution_count": 29,
   "metadata": {},
   "outputs": [
    {
     "data": {
      "text/plain": [
       "<sklearn.metrics._plot.confusion_matrix.ConfusionMatrixDisplay at 0x15680c3d708>"
      ]
     },
     "execution_count": 29,
     "metadata": {},
     "output_type": "execute_result"
    },
    {
     "data": {
      "image/png": "[encoded data removed]",
      "text/plain": [
       "<Figure size 432x288 with 2 Axes>"
      ]
     },
     "metadata": {
      "needs_background": "light"
     },
     "output_type": "display_data"
    }
   ],
   "source": [
    "plot_confusion_matrix(lr,x_test,yhat)"
   ]
  },
  {
   "cell_type": "code",
   "execution_count": 30,
   "metadata": {},
   "outputs": [
    {
     "name": "stdout",
     "output_type": "stream",
     "text": [
      "              precision    recall  f1-score   support\n",
      "\n",
      "           0       0.78      1.00      0.88        14\n",
      "           1       1.00      0.75      0.86        16\n",
      "\n",
      "    accuracy                           0.87        30\n",
      "   macro avg       0.89      0.88      0.87        30\n",
      "weighted avg       0.90      0.87      0.87        30\n",
      "\n"
     ]
    }
   ],
   "source": [
    "print(classification_report(y_test,yhat))"
   ]
  },
  {
   "cell_type": "code",
   "execution_count": 31,
   "metadata": {},
   "outputs": [],
   "source": [
    "from sklearn.metrics import accuracy_score,precision_score"
   ]
  },
  {
   "cell_type": "code",
   "execution_count": 32,
   "metadata": {},
   "outputs": [
    {
     "data": {
      "text/plain": [
       "0.8666666666666667"
      ]
     },
     "execution_count": 32,
     "metadata": {},
     "output_type": "execute_result"
    }
   ],
   "source": [
    "accuracy_score(y_test,yhat)"
   ]
  },
  {
   "cell_type": "markdown",
   "metadata": {},
   "source": [
    "# KNN CLASSIFIER"
   ]
  },
  {
   "cell_type": "code",
   "execution_count": 33,
   "metadata": {},
   "outputs": [],
   "source": [
    "from sklearn.neighbors import KNeighborsClassifier"
   ]
  },
  {
   "cell_type": "code",
   "execution_count": 34,
   "metadata": {},
   "outputs": [],
   "source": [
    "knn = KNeighborsClassifier()"
   ]
  },
  {
   "cell_type": "code",
   "execution_count": 35,
   "metadata": {},
   "outputs": [
    {
     "data": {
      "text/plain": [
       "KNeighborsClassifier(algorithm='auto', leaf_size=30, metric='minkowski',\n",
       "                     metric_params=None, n_jobs=None, n_neighbors=5, p=2,\n",
       "                     weights='uniform')"
      ]
     },
     "execution_count": 35,
     "metadata": {},
     "output_type": "execute_result"
    }
   ],
   "source": [
    "knn.fit(x_train,y_train)"
   ]
  },
  {
   "cell_type": "code",
   "execution_count": 36,
   "metadata": {},
   "outputs": [],
   "source": [
    "knn_yhat = knn.predict(x_test)"
   ]
  },
  {
   "cell_type": "code",
   "execution_count": 37,
   "metadata": {},
   "outputs": [
    {
     "data": {
      "text/plain": [
       "array([0, 0, 0, 0, 1, 0, 0, 0, 0, 0, 0, 1, 0, 1, 0, 0, 0, 0, 1, 1, 0, 0,\n",
       "       0, 0, 0, 0, 0, 0, 0, 0])"
      ]
     },
     "execution_count": 37,
     "metadata": {},
     "output_type": "execute_result"
    }
   ],
   "source": [
    "knn_yhat"
   ]
  },
  {
   "cell_type": "code",
   "execution_count": 38,
   "metadata": {},
   "outputs": [
    {
     "data": {
      "text/html": [
       "<div>\n",
       "<style scoped>\n",
       "    .dataframe tbody tr th:only-of-type {\n",
       "        vertical-align: middle;\n",
       "    }\n",
       "\n",
       "    .dataframe tbody tr th {\n",
       "        vertical-align: top;\n",
       "    }\n",
       "\n",
       "    .dataframe thead th {\n",
       "        text-align: right;\n",
       "    }\n",
       "</style>\n",
       "<table border=\"1\" class=\"dataframe\">\n",
       "  <thead>\n",
       "    <tr style=\"text-align: right;\">\n",
       "      <th></th>\n",
       "      <th>Actual</th>\n",
       "      <th>knn_prediction</th>\n",
       "      <th>Logistic prediction</th>\n",
       "      <th>y_test and knn_yhat</th>\n",
       "      <th>y_test and yhat</th>\n",
       "    </tr>\n",
       "  </thead>\n",
       "  <tbody>\n",
       "    <tr>\n",
       "      <th>0</th>\n",
       "      <td>0</td>\n",
       "      <td>0</td>\n",
       "      <td>0</td>\n",
       "      <td>True</td>\n",
       "      <td>True</td>\n",
       "    </tr>\n",
       "    <tr>\n",
       "      <th>1</th>\n",
       "      <td>1</td>\n",
       "      <td>0</td>\n",
       "      <td>1</td>\n",
       "      <td>False</td>\n",
       "      <td>True</td>\n",
       "    </tr>\n",
       "    <tr>\n",
       "      <th>2</th>\n",
       "      <td>1</td>\n",
       "      <td>0</td>\n",
       "      <td>0</td>\n",
       "      <td>False</td>\n",
       "      <td>False</td>\n",
       "    </tr>\n",
       "    <tr>\n",
       "      <th>3</th>\n",
       "      <td>1</td>\n",
       "      <td>0</td>\n",
       "      <td>1</td>\n",
       "      <td>False</td>\n",
       "      <td>True</td>\n",
       "    </tr>\n",
       "    <tr>\n",
       "      <th>4</th>\n",
       "      <td>1</td>\n",
       "      <td>1</td>\n",
       "      <td>1</td>\n",
       "      <td>True</td>\n",
       "      <td>True</td>\n",
       "    </tr>\n",
       "    <tr>\n",
       "      <th>5</th>\n",
       "      <td>0</td>\n",
       "      <td>0</td>\n",
       "      <td>0</td>\n",
       "      <td>True</td>\n",
       "      <td>True</td>\n",
       "    </tr>\n",
       "    <tr>\n",
       "      <th>6</th>\n",
       "      <td>0</td>\n",
       "      <td>0</td>\n",
       "      <td>0</td>\n",
       "      <td>True</td>\n",
       "      <td>True</td>\n",
       "    </tr>\n",
       "    <tr>\n",
       "      <th>7</th>\n",
       "      <td>0</td>\n",
       "      <td>0</td>\n",
       "      <td>0</td>\n",
       "      <td>True</td>\n",
       "      <td>True</td>\n",
       "    </tr>\n",
       "    <tr>\n",
       "      <th>8</th>\n",
       "      <td>0</td>\n",
       "      <td>0</td>\n",
       "      <td>0</td>\n",
       "      <td>True</td>\n",
       "      <td>True</td>\n",
       "    </tr>\n",
       "    <tr>\n",
       "      <th>9</th>\n",
       "      <td>0</td>\n",
       "      <td>0</td>\n",
       "      <td>0</td>\n",
       "      <td>True</td>\n",
       "      <td>True</td>\n",
       "    </tr>\n",
       "    <tr>\n",
       "      <th>10</th>\n",
       "      <td>0</td>\n",
       "      <td>0</td>\n",
       "      <td>0</td>\n",
       "      <td>True</td>\n",
       "      <td>True</td>\n",
       "    </tr>\n",
       "    <tr>\n",
       "      <th>11</th>\n",
       "      <td>1</td>\n",
       "      <td>1</td>\n",
       "      <td>1</td>\n",
       "      <td>True</td>\n",
       "      <td>True</td>\n",
       "    </tr>\n",
       "    <tr>\n",
       "      <th>12</th>\n",
       "      <td>1</td>\n",
       "      <td>0</td>\n",
       "      <td>1</td>\n",
       "      <td>False</td>\n",
       "      <td>True</td>\n",
       "    </tr>\n",
       "    <tr>\n",
       "      <th>13</th>\n",
       "      <td>1</td>\n",
       "      <td>1</td>\n",
       "      <td>1</td>\n",
       "      <td>True</td>\n",
       "      <td>True</td>\n",
       "    </tr>\n",
       "    <tr>\n",
       "      <th>14</th>\n",
       "      <td>0</td>\n",
       "      <td>0</td>\n",
       "      <td>0</td>\n",
       "      <td>True</td>\n",
       "      <td>True</td>\n",
       "    </tr>\n",
       "    <tr>\n",
       "      <th>15</th>\n",
       "      <td>0</td>\n",
       "      <td>0</td>\n",
       "      <td>0</td>\n",
       "      <td>True</td>\n",
       "      <td>True</td>\n",
       "    </tr>\n",
       "    <tr>\n",
       "      <th>16</th>\n",
       "      <td>1</td>\n",
       "      <td>0</td>\n",
       "      <td>1</td>\n",
       "      <td>False</td>\n",
       "      <td>True</td>\n",
       "    </tr>\n",
       "    <tr>\n",
       "      <th>17</th>\n",
       "      <td>1</td>\n",
       "      <td>0</td>\n",
       "      <td>0</td>\n",
       "      <td>False</td>\n",
       "      <td>False</td>\n",
       "    </tr>\n",
       "    <tr>\n",
       "      <th>18</th>\n",
       "      <td>1</td>\n",
       "      <td>1</td>\n",
       "      <td>1</td>\n",
       "      <td>True</td>\n",
       "      <td>True</td>\n",
       "    </tr>\n",
       "    <tr>\n",
       "      <th>19</th>\n",
       "      <td>1</td>\n",
       "      <td>1</td>\n",
       "      <td>1</td>\n",
       "      <td>True</td>\n",
       "      <td>True</td>\n",
       "    </tr>\n",
       "    <tr>\n",
       "      <th>20</th>\n",
       "      <td>1</td>\n",
       "      <td>0</td>\n",
       "      <td>0</td>\n",
       "      <td>False</td>\n",
       "      <td>False</td>\n",
       "    </tr>\n",
       "    <tr>\n",
       "      <th>21</th>\n",
       "      <td>0</td>\n",
       "      <td>0</td>\n",
       "      <td>0</td>\n",
       "      <td>True</td>\n",
       "      <td>True</td>\n",
       "    </tr>\n",
       "    <tr>\n",
       "      <th>22</th>\n",
       "      <td>0</td>\n",
       "      <td>0</td>\n",
       "      <td>0</td>\n",
       "      <td>True</td>\n",
       "      <td>True</td>\n",
       "    </tr>\n",
       "    <tr>\n",
       "      <th>23</th>\n",
       "      <td>0</td>\n",
       "      <td>0</td>\n",
       "      <td>0</td>\n",
       "      <td>True</td>\n",
       "      <td>True</td>\n",
       "    </tr>\n",
       "    <tr>\n",
       "      <th>24</th>\n",
       "      <td>1</td>\n",
       "      <td>0</td>\n",
       "      <td>1</td>\n",
       "      <td>False</td>\n",
       "      <td>True</td>\n",
       "    </tr>\n",
       "    <tr>\n",
       "      <th>25</th>\n",
       "      <td>0</td>\n",
       "      <td>0</td>\n",
       "      <td>0</td>\n",
       "      <td>True</td>\n",
       "      <td>True</td>\n",
       "    </tr>\n",
       "    <tr>\n",
       "      <th>26</th>\n",
       "      <td>1</td>\n",
       "      <td>0</td>\n",
       "      <td>0</td>\n",
       "      <td>False</td>\n",
       "      <td>False</td>\n",
       "    </tr>\n",
       "    <tr>\n",
       "      <th>27</th>\n",
       "      <td>1</td>\n",
       "      <td>0</td>\n",
       "      <td>1</td>\n",
       "      <td>False</td>\n",
       "      <td>True</td>\n",
       "    </tr>\n",
       "    <tr>\n",
       "      <th>28</th>\n",
       "      <td>0</td>\n",
       "      <td>0</td>\n",
       "      <td>0</td>\n",
       "      <td>True</td>\n",
       "      <td>True</td>\n",
       "    </tr>\n",
       "    <tr>\n",
       "      <th>29</th>\n",
       "      <td>1</td>\n",
       "      <td>0</td>\n",
       "      <td>1</td>\n",
       "      <td>False</td>\n",
       "      <td>True</td>\n",
       "    </tr>\n",
       "  </tbody>\n",
       "</table>\n",
       "</div>"
      ],
      "text/plain": [
       "    Actual  knn_prediction  Logistic prediction  y_test and knn_yhat  \\\n",
       "0        0               0                    0                 True   \n",
       "1        1               0                    1                False   \n",
       "2        1               0                    0                False   \n",
       "3        1               0                    1                False   \n",
       "4        1               1                    1                 True   \n",
       "5        0               0                    0                 True   \n",
       "6        0               0                    0                 True   \n",
       "7        0               0                    0                 True   \n",
       "8        0               0                    0                 True   \n",
       "9        0               0                    0                 True   \n",
       "10       0               0                    0                 True   \n",
       "11       1               1                    1                 True   \n",
       "12       1               0                    1                False   \n",
       "13       1               1                    1                 True   \n",
       "14       0               0                    0                 True   \n",
       "15       0               0                    0                 True   \n",
       "16       1               0                    1                False   \n",
       "17       1               0                    0                False   \n",
       "18       1               1                    1                 True   \n",
       "19       1               1                    1                 True   \n",
       "20       1               0                    0                False   \n",
       "21       0               0                    0                 True   \n",
       "22       0               0                    0                 True   \n",
       "23       0               0                    0                 True   \n",
       "24       1               0                    1                False   \n",
       "25       0               0                    0                 True   \n",
       "26       1               0                    0                False   \n",
       "27       1               0                    1                False   \n",
       "28       0               0                    0                 True   \n",
       "29       1               0                    1                False   \n",
       "\n",
       "    y_test and yhat  \n",
       "0              True  \n",
       "1              True  \n",
       "2             False  \n",
       "3              True  \n",
       "4              True  \n",
       "5              True  \n",
       "6              True  \n",
       "7              True  \n",
       "8              True  \n",
       "9              True  \n",
       "10             True  \n",
       "11             True  \n",
       "12             True  \n",
       "13             True  \n",
       "14             True  \n",
       "15             True  \n",
       "16             True  \n",
       "17            False  \n",
       "18             True  \n",
       "19             True  \n",
       "20            False  \n",
       "21             True  \n",
       "22             True  \n",
       "23             True  \n",
       "24             True  \n",
       "25             True  \n",
       "26            False  \n",
       "27             True  \n",
       "28             True  \n",
       "29             True  "
      ]
     },
     "execution_count": 38,
     "metadata": {},
     "output_type": "execute_result"
    }
   ],
   "source": [
    "pd.DataFrame({'Actual':y_test,\n",
    "             'knn_prediction':knn_yhat,\n",
    "              'Logistic prediction':yhat,\n",
    "             'y_test and knn_yhat':(y_test == knn_yhat),\n",
    "             'y_test and yhat':(y_test==yhat)})"
   ]
  },
  {
   "cell_type": "code",
   "execution_count": 39,
   "metadata": {},
   "outputs": [
    {
     "data": {
      "text/plain": [
       "<sklearn.metrics._plot.confusion_matrix.ConfusionMatrixDisplay at 0x156828ca408>"
      ]
     },
     "execution_count": 39,
     "metadata": {},
     "output_type": "execute_result"
    },
    {
     "data": {
      "image/png": "[encoded data removed]",
      "text/plain": [
       "<Figure size 432x288 with 2 Axes>"
      ]
     },
     "metadata": {
      "needs_background": "light"
     },
     "output_type": "display_data"
    }
   ],
   "source": [
    "plot_confusion_matrix(knn,x_test,knn_yhat)"
   ]
  },
  {
   "cell_type": "code",
   "execution_count": 40,
   "metadata": {},
   "outputs": [
    {
     "data": {
      "text/plain": [
       "<sklearn.metrics._plot.confusion_matrix.ConfusionMatrixDisplay at 0x15682929888>"
      ]
     },
     "execution_count": 40,
     "metadata": {},
     "output_type": "execute_result"
    },
    {
     "data": {
      "image/png": "[encoded data removed]",
      "text/plain": [
       "<Figure size 432x288 with 2 Axes>"
      ]
     },
     "metadata": {
      "needs_background": "light"
     },
     "output_type": "display_data"
    }
   ],
   "source": [
    "plot_confusion_matrix(knn,x_train,y_train)"
   ]
  },
  {
   "cell_type": "code",
   "execution_count": 41,
   "metadata": {},
   "outputs": [],
   "source": [
    "cm = confusion_matrix(y_test,knn_yhat)"
   ]
  },
  {
   "cell_type": "code",
   "execution_count": 42,
   "metadata": {},
   "outputs": [
    {
     "data": {
      "text/plain": [
       "<matplotlib.axes._subplots.AxesSubplot at 0x15682a2f788>"
      ]
     },
     "execution_count": 42,
     "metadata": {},
     "output_type": "execute_result"
    },
    {
     "data": {
      "image/png": "[encoded data removed]",
      "text/plain": [
       "<Figure size 432x288 with 2 Axes>"
      ]
     },
     "metadata": {
      "needs_background": "light"
     },
     "output_type": "display_data"
    }
   ],
   "source": [
    "sns.heatmap(cm,annot=True)"
   ]
  },
  {
   "cell_type": "code",
   "execution_count": 43,
   "metadata": {},
   "outputs": [
    {
     "name": "stdout",
     "output_type": "stream",
     "text": [
      "              precision    recall  f1-score   support\n",
      "\n",
      "           0       0.56      1.00      0.72        14\n",
      "           1       1.00      0.31      0.48        16\n",
      "\n",
      "    accuracy                           0.63        30\n",
      "   macro avg       0.78      0.66      0.60        30\n",
      "weighted avg       0.79      0.63      0.59        30\n",
      "\n"
     ]
    }
   ],
   "source": [
    "print(classification_report(y_test,knn_yhat))"
   ]
  },
  {
   "cell_type": "code",
   "execution_count": 44,
   "metadata": {},
   "outputs": [
    {
     "data": {
      "text/plain": [
       "14"
      ]
     },
     "execution_count": 44,
     "metadata": {},
     "output_type": "execute_result"
    }
   ],
   "source": [
    "tp = cm[0,0]\n",
    "tp"
   ]
  },
  {
   "cell_type": "code",
   "execution_count": 45,
   "metadata": {},
   "outputs": [
    {
     "data": {
      "text/plain": [
       "5"
      ]
     },
     "execution_count": 45,
     "metadata": {},
     "output_type": "execute_result"
    }
   ],
   "source": [
    "tn = cm[1,1]\n",
    "tn"
   ]
  },
  {
   "cell_type": "code",
   "execution_count": 46,
   "metadata": {},
   "outputs": [
    {
     "data": {
      "text/plain": [
       "11"
      ]
     },
     "execution_count": 46,
     "metadata": {},
     "output_type": "execute_result"
    }
   ],
   "source": [
    "fp = cm[1,0]\n",
    "fp"
   ]
  },
  {
   "cell_type": "code",
   "execution_count": 47,
   "metadata": {},
   "outputs": [
    {
     "data": {
      "text/plain": [
       "0"
      ]
     },
     "execution_count": 47,
     "metadata": {},
     "output_type": "execute_result"
    }
   ],
   "source": [
    "fn = cm[0,1]\n",
    "fn"
   ]
  },
  {
   "cell_type": "code",
   "execution_count": 48,
   "metadata": {},
   "outputs": [
    {
     "data": {
      "text/plain": [
       "0.09333333333333332"
      ]
     },
     "execution_count": 48,
     "metadata": {},
     "output_type": "execute_result"
    }
   ],
   "source": [
    "acc = (tp/tn)/(tp+tn+fp+fn)\n",
    "acc"
   ]
  },
  {
   "cell_type": "code",
   "execution_count": 49,
   "metadata": {},
   "outputs": [],
   "source": [
    "from sklearn.metrics import plot_roc_curve"
   ]
  },
  {
   "cell_type": "code",
   "execution_count": 50,
   "metadata": {},
   "outputs": [],
   "source": [
    "from sklearn.naive_bayes import MultinomialNB,CategoricalNB,ComplementNB,BernoulliNB,GaussianNB"
   ]
  },
  {
   "cell_type": "code",
   "execution_count": 51,
   "metadata": {},
   "outputs": [],
   "source": [
    "mnb = MultinomialNB()"
   ]
  },
  {
   "cell_type": "code",
   "execution_count": 52,
   "metadata": {},
   "outputs": [
    {
     "data": {
      "text/plain": [
       "MultinomialNB(alpha=1.0, class_prior=None, fit_prior=True)"
      ]
     },
     "execution_count": 52,
     "metadata": {},
     "output_type": "execute_result"
    }
   ],
   "source": [
    "mnb.fit(x_train,y_train)"
   ]
  },
  {
   "cell_type": "code",
   "execution_count": 53,
   "metadata": {},
   "outputs": [],
   "source": [
    "mnb_yhat = mnb.predict(x_test)"
   ]
  },
  {
   "cell_type": "code",
   "execution_count": 54,
   "metadata": {},
   "outputs": [
    {
     "data": {
      "text/plain": [
       "array([0, 1, 0, 0, 1, 0, 0, 0, 0, 0, 0, 1, 1, 1, 0, 0, 0, 1, 0, 1, 0, 0,\n",
       "       0, 1, 1, 0, 0, 0, 0, 1])"
      ]
     },
     "execution_count": 54,
     "metadata": {},
     "output_type": "execute_result"
    }
   ],
   "source": [
    "mnb_yhat"
   ]
  },
  {
   "cell_type": "code",
   "execution_count": 55,
   "metadata": {},
   "outputs": [],
   "source": [
    "cm1 = confusion_matrix(y_test,mnb_yhat)"
   ]
  },
  {
   "cell_type": "code",
   "execution_count": 56,
   "metadata": {},
   "outputs": [
    {
     "data": {
      "text/plain": [
       "array([[13,  1],\n",
       "       [ 7,  9]], dtype=int64)"
      ]
     },
     "execution_count": 56,
     "metadata": {},
     "output_type": "execute_result"
    }
   ],
   "source": [
    "cm1"
   ]
  },
  {
   "cell_type": "code",
   "execution_count": 57,
   "metadata": {},
   "outputs": [
    {
     "name": "stdout",
     "output_type": "stream",
     "text": [
      "              precision    recall  f1-score   support\n",
      "\n",
      "           0       0.65      0.93      0.76        14\n",
      "           1       0.90      0.56      0.69        16\n",
      "\n",
      "    accuracy                           0.73        30\n",
      "   macro avg       0.78      0.75      0.73        30\n",
      "weighted avg       0.78      0.73      0.73        30\n",
      "\n"
     ]
    }
   ],
   "source": [
    "print (classification_report(y_test,mnb_yhat))"
   ]
  },
  {
   "cell_type": "code",
   "execution_count": 58,
   "metadata": {},
   "outputs": [
    {
     "data": {
      "text/plain": [
       "0.7333333333333333"
      ]
     },
     "execution_count": 58,
     "metadata": {},
     "output_type": "execute_result"
    }
   ],
   "source": [
    "accuracy_score(y_test,mnb_yhat)"
   ]
  },
  {
   "cell_type": "code",
   "execution_count": 59,
   "metadata": {},
   "outputs": [
    {
     "data": {
      "text/plain": [
       "<sklearn.metrics._plot.confusion_matrix.ConfusionMatrixDisplay at 0x15682b00688>"
      ]
     },
     "execution_count": 59,
     "metadata": {},
     "output_type": "execute_result"
    },
    {
     "data": {
      "image/png": "[encoded data removed]",
      "text/plain": [
       "<Figure size 432x288 with 2 Axes>"
      ]
     },
     "metadata": {
      "needs_background": "light"
     },
     "output_type": "display_data"
    }
   ],
   "source": [
    "plot_confusion_matrix(mnb,x_test,mnb_yhat)"
   ]
  },
  {
   "cell_type": "code",
   "execution_count": 60,
   "metadata": {},
   "outputs": [
    {
     "data": {
      "text/plain": [
       "<sklearn.metrics._plot.roc_curve.RocCurveDisplay at 0x15682a1e4c8>"
      ]
     },
     "execution_count": 60,
     "metadata": {},
     "output_type": "execute_result"
    },
    {
     "data": {
      "image/png": "[encoded data removed]",
      "text/plain": [
       "<Figure size 432x288 with 1 Axes>"
      ]
     },
     "metadata": {
      "needs_background": "light"
     },
     "output_type": "display_data"
    }
   ],
   "source": [
    "plot_roc_curve(mnb,x_test,mnb_yhat)"
   ]
  },
  {
   "cell_type": "code",
   "execution_count": 61,
   "metadata": {},
   "outputs": [],
   "source": [
    "cnb = ComplementNB()"
   ]
  },
  {
   "cell_type": "code",
   "execution_count": 62,
   "metadata": {},
   "outputs": [
    {
     "data": {
      "text/plain": [
       "ComplementNB(alpha=1.0, class_prior=None, fit_prior=True, norm=False)"
      ]
     },
     "execution_count": 62,
     "metadata": {},
     "output_type": "execute_result"
    }
   ],
   "source": [
    "cnb.fit(x_train,y_train)"
   ]
  },
  {
   "cell_type": "code",
   "execution_count": 63,
   "metadata": {},
   "outputs": [],
   "source": [
    "cnb_yhat = cnb.predict(x_test)"
   ]
  },
  {
   "cell_type": "code",
   "execution_count": 64,
   "metadata": {},
   "outputs": [
    {
     "data": {
      "text/plain": [
       "array([0, 1, 0, 0, 1, 0, 0, 0, 0, 0, 0, 1, 1, 1, 0, 0, 0, 1, 0, 1, 0, 0,\n",
       "       0, 1, 1, 0, 0, 0, 0, 1])"
      ]
     },
     "execution_count": 64,
     "metadata": {},
     "output_type": "execute_result"
    }
   ],
   "source": [
    "cnb_yhat"
   ]
  },
  {
   "cell_type": "code",
   "execution_count": 65,
   "metadata": {},
   "outputs": [
    {
     "data": {
      "text/plain": [
       "array([[13,  1],\n",
       "       [ 7,  9]], dtype=int64)"
      ]
     },
     "execution_count": 65,
     "metadata": {},
     "output_type": "execute_result"
    }
   ],
   "source": [
    "cm2  = confusion_matrix(y_test,cnb_yhat)\n",
    "cm2"
   ]
  },
  {
   "cell_type": "code",
   "execution_count": 66,
   "metadata": {},
   "outputs": [
    {
     "name": "stdout",
     "output_type": "stream",
     "text": [
      "              precision    recall  f1-score   support\n",
      "\n",
      "           0       0.65      0.93      0.76        14\n",
      "           1       0.90      0.56      0.69        16\n",
      "\n",
      "    accuracy                           0.73        30\n",
      "   macro avg       0.78      0.75      0.73        30\n",
      "weighted avg       0.78      0.73      0.73        30\n",
      "\n"
     ]
    }
   ],
   "source": [
    "print(classification_report(y_test,cnb_yhat))"
   ]
  },
  {
   "cell_type": "code",
   "execution_count": 67,
   "metadata": {},
   "outputs": [
    {
     "data": {
      "text/plain": [
       "0.7333333333333333"
      ]
     },
     "execution_count": 67,
     "metadata": {},
     "output_type": "execute_result"
    }
   ],
   "source": [
    "accuracy_score(y_test,cnb_yhat)"
   ]
  },
  {
   "cell_type": "code",
   "execution_count": 68,
   "metadata": {},
   "outputs": [
    {
     "data": {
      "text/plain": [
       "<sklearn.metrics._plot.confusion_matrix.ConfusionMatrixDisplay at 0x15682be1648>"
      ]
     },
     "execution_count": 68,
     "metadata": {},
     "output_type": "execute_result"
    },
    {
     "data": {
      "image/png": "[encoded data removed]",
      "text/plain": [
       "<Figure size 432x288 with 2 Axes>"
      ]
     },
     "metadata": {
      "needs_background": "light"
     },
     "output_type": "display_data"
    }
   ],
   "source": [
    "plot_confusion_matrix(cnb,x_test,cnb_yhat)"
   ]
  },
  {
   "cell_type": "code",
   "execution_count": 69,
   "metadata": {},
   "outputs": [
    {
     "data": {
      "text/plain": [
       "<sklearn.metrics._plot.roc_curve.RocCurveDisplay at 0x15682c086c8>"
      ]
     },
     "execution_count": 69,
     "metadata": {},
     "output_type": "execute_result"
    },
    {
     "data": {
      "image/png": "[encoded data removed]",
      "text/plain": [
       "<Figure size 432x288 with 1 Axes>"
      ]
     },
     "metadata": {
      "needs_background": "light"
     },
     "output_type": "display_data"
    }
   ],
   "source": [
    "plot_roc_curve(cnb,x_test,cnb_yhat)"
   ]
  },
  {
   "cell_type": "code",
   "execution_count": 70,
   "metadata": {},
   "outputs": [],
   "source": [
    "ct = CategoricalNB()"
   ]
  },
  {
   "cell_type": "code",
   "execution_count": 71,
   "metadata": {},
   "outputs": [
    {
     "data": {
      "text/plain": [
       "CategoricalNB(alpha=1.0, class_prior=None, fit_prior=True)"
      ]
     },
     "execution_count": 71,
     "metadata": {},
     "output_type": "execute_result"
    }
   ],
   "source": [
    "ct.fit(x_train,y_train)"
   ]
  },
  {
   "cell_type": "code",
   "execution_count": 72,
   "metadata": {},
   "outputs": [
    {
     "data": {
      "text/plain": [
       "array([0, 0, 0, 0, 0, 0, 0, 0, 0, 0, 0, 0, 0, 0, 0, 0, 0, 0, 0, 0, 0, 0,\n",
       "       0, 0, 0, 0, 0, 0, 0, 0])"
      ]
     },
     "execution_count": 72,
     "metadata": {},
     "output_type": "execute_result"
    }
   ],
   "source": [
    "ct_yhat = ct.predict(x_test)\n",
    "ct_yhat"
   ]
  },
  {
   "cell_type": "code",
   "execution_count": 73,
   "metadata": {},
   "outputs": [
    {
     "data": {
      "text/plain": [
       "array([[14,  0],\n",
       "       [16,  0]], dtype=int64)"
      ]
     },
     "execution_count": 73,
     "metadata": {},
     "output_type": "execute_result"
    }
   ],
   "source": [
    "cm3 = confusion_matrix(y_test,ct_yhat)\n",
    "cm3"
   ]
  },
  {
   "cell_type": "code",
   "execution_count": 74,
   "metadata": {},
   "outputs": [
    {
     "data": {
      "text/plain": [
       "0.4666666666666667"
      ]
     },
     "execution_count": 74,
     "metadata": {},
     "output_type": "execute_result"
    }
   ],
   "source": [
    "accuracy_score(y_test,ct_yhat)"
   ]
  },
  {
   "cell_type": "code",
   "execution_count": 75,
   "metadata": {},
   "outputs": [
    {
     "data": {
      "text/plain": [
       "<sklearn.metrics._plot.confusion_matrix.ConfusionMatrixDisplay at 0x15683383c48>"
      ]
     },
     "execution_count": 75,
     "metadata": {},
     "output_type": "execute_result"
    },
    {
     "data": {
      "image/png": "[encoded data removed]",
      "text/plain": [
       "<Figure size 432x288 with 2 Axes>"
      ]
     },
     "metadata": {
      "needs_background": "light"
     },
     "output_type": "display_data"
    }
   ],
   "source": [
    "plot_confusion_matrix(ct,x_test,ct_yhat)"
   ]
  },
  {
   "cell_type": "code",
   "execution_count": 76,
   "metadata": {},
   "outputs": [
    {
     "name": "stderr",
     "output_type": "stream",
     "text": [
      "c:\\users\\91833\\appdata\\local\\programs\\python\\python37\\lib\\site-packages\\sklearn\\metrics\\_ranking.py:808: UndefinedMetricWarning: No positive samples in y_true, true positive value should be meaningless\n",
      "  UndefinedMetricWarning)\n"
     ]
    },
    {
     "data": {
      "text/plain": [
       "<sklearn.metrics._plot.roc_curve.RocCurveDisplay at 0x15682da76c8>"
      ]
     },
     "execution_count": 76,
     "metadata": {},
     "output_type": "execute_result"
    },
    {
     "data": {
      "image/png": "[encoded data removed]",
      "text/plain": [
       "<Figure size 432x288 with 1 Axes>"
      ]
     },
     "metadata": {
      "needs_background": "light"
     },
     "output_type": "display_data"
    }
   ],
   "source": [
    "plot_roc_curve(ct,x_test,ct_yhat)"
   ]
  },
  {
   "cell_type": "code",
   "execution_count": 77,
   "metadata": {},
   "outputs": [],
   "source": [
    "gnb = GaussianNB()"
   ]
  },
  {
   "cell_type": "code",
   "execution_count": 78,
   "metadata": {},
   "outputs": [
    {
     "data": {
      "text/plain": [
       "GaussianNB(priors=None, var_smoothing=1e-09)"
      ]
     },
     "execution_count": 78,
     "metadata": {},
     "output_type": "execute_result"
    }
   ],
   "source": [
    "gnb.fit(x_train,y_train)"
   ]
  },
  {
   "cell_type": "code",
   "execution_count": 79,
   "metadata": {},
   "outputs": [],
   "source": [
    "gnb_yhat = gnb.predict(x_test)"
   ]
  },
  {
   "cell_type": "code",
   "execution_count": 80,
   "metadata": {},
   "outputs": [
    {
     "data": {
      "text/plain": [
       "array([0, 1, 1, 0, 1, 0, 1, 0, 0, 1, 0, 0, 0, 1, 0, 0, 0, 1, 0, 1, 1, 0,\n",
       "       0, 1, 1, 0, 0, 0, 0, 1])"
      ]
     },
     "execution_count": 80,
     "metadata": {},
     "output_type": "execute_result"
    }
   ],
   "source": [
    "gnb_yhat"
   ]
  },
  {
   "cell_type": "code",
   "execution_count": 81,
   "metadata": {},
   "outputs": [
    {
     "data": {
      "text/plain": [
       "array([[11,  3],\n",
       "       [ 7,  9]], dtype=int64)"
      ]
     },
     "execution_count": 81,
     "metadata": {},
     "output_type": "execute_result"
    }
   ],
   "source": [
    "cm4 = confusion_matrix(y_test,gnb_yhat)\n",
    "cm4"
   ]
  },
  {
   "cell_type": "code",
   "execution_count": 82,
   "metadata": {},
   "outputs": [
    {
     "data": {
      "text/plain": [
       "0.6666666666666666"
      ]
     },
     "execution_count": 82,
     "metadata": {},
     "output_type": "execute_result"
    }
   ],
   "source": [
    "accuracy_score(y_test,gnb_yhat)"
   ]
  },
  {
   "cell_type": "code",
   "execution_count": 83,
   "metadata": {},
   "outputs": [
    {
     "data": {
      "text/plain": [
       "<sklearn.metrics._plot.confusion_matrix.ConfusionMatrixDisplay at 0x15682e314c8>"
      ]
     },
     "execution_count": 83,
     "metadata": {},
     "output_type": "execute_result"
    },
    {
     "data": {
      "image/png": "[encoded data removed]",
      "text/plain": [
       "<Figure size 432x288 with 2 Axes>"
      ]
     },
     "metadata": {
      "needs_background": "light"
     },
     "output_type": "display_data"
    }
   ],
   "source": [
    "plot_confusion_matrix(gnb,x_test,gnb_yhat)"
   ]
  },
  {
   "cell_type": "code",
   "execution_count": 84,
   "metadata": {},
   "outputs": [
    {
     "data": {
      "text/plain": [
       "<sklearn.metrics._plot.roc_curve.RocCurveDisplay at 0x15682d16b08>"
      ]
     },
     "execution_count": 84,
     "metadata": {},
     "output_type": "execute_result"
    },
    {
     "data": {
      "image/png": "[encoded data removed]",
      "text/plain": [
       "<Figure size 432x288 with 1 Axes>"
      ]
     },
     "metadata": {
      "needs_background": "light"
     },
     "output_type": "display_data"
    }
   ],
   "source": [
    "plot_roc_curve(gnb,x_test,gnb_yhat)"
   ]
  },
  {
   "cell_type": "code",
   "execution_count": 85,
   "metadata": {},
   "outputs": [],
   "source": [
    "bnb = BernoulliNB()"
   ]
  },
  {
   "cell_type": "code",
   "execution_count": 86,
   "metadata": {},
   "outputs": [
    {
     "data": {
      "text/plain": [
       "BernoulliNB(alpha=1.0, binarize=0.0, class_prior=None, fit_prior=True)"
      ]
     },
     "execution_count": 86,
     "metadata": {},
     "output_type": "execute_result"
    }
   ],
   "source": [
    "bnb.fit(x_train,y_train)"
   ]
  },
  {
   "cell_type": "code",
   "execution_count": 87,
   "metadata": {},
   "outputs": [
    {
     "data": {
      "text/plain": [
       "array([0, 1, 1, 0, 1, 0, 1, 0, 0, 1, 0, 0, 0, 1, 0, 0, 0, 1, 0, 1, 1, 0,\n",
       "       0, 1, 1, 0, 0, 0, 0, 1])"
      ]
     },
     "execution_count": 87,
     "metadata": {},
     "output_type": "execute_result"
    }
   ],
   "source": [
    "bnb_yhat = gnb.predict(x_test)\n",
    "bnb_yhat"
   ]
  },
  {
   "cell_type": "code",
   "execution_count": 88,
   "metadata": {},
   "outputs": [
    {
     "data": {
      "text/plain": [
       "array([[11,  3],\n",
       "       [ 7,  9]], dtype=int64)"
      ]
     },
     "execution_count": 88,
     "metadata": {},
     "output_type": "execute_result"
    }
   ],
   "source": [
    "cm = confusion_matrix(y_test,gnb_yhat)\n",
    "cm"
   ]
  },
  {
   "cell_type": "code",
   "execution_count": 89,
   "metadata": {},
   "outputs": [
    {
     "data": {
      "text/plain": [
       "0.6666666666666666"
      ]
     },
     "execution_count": 89,
     "metadata": {},
     "output_type": "execute_result"
    }
   ],
   "source": [
    "accuracy_score(y_test,bnb_yhat)"
   ]
  },
  {
   "cell_type": "code",
   "execution_count": 90,
   "metadata": {},
   "outputs": [
    {
     "data": {
      "text/plain": [
       "<sklearn.metrics._plot.confusion_matrix.ConfusionMatrixDisplay at 0x15682f1ec48>"
      ]
     },
     "execution_count": 90,
     "metadata": {},
     "output_type": "execute_result"
    },
    {
     "data": {
      "image/png": "[encoded data removed]",
      "text/plain": [
       "<Figure size 432x288 with 2 Axes>"
      ]
     },
     "metadata": {
      "needs_background": "light"
     },
     "output_type": "display_data"
    }
   ],
   "source": [
    "plot_confusion_matrix(bnb,x_test,bnb_yhat)"
   ]
  },
  {
   "cell_type": "code",
   "execution_count": 91,
   "metadata": {},
   "outputs": [
    {
     "data": {
      "text/plain": [
       "<sklearn.metrics._plot.roc_curve.RocCurveDisplay at 0x15682e31048>"
      ]
     },
     "execution_count": 91,
     "metadata": {},
     "output_type": "execute_result"
    },
    {
     "data": {
      "image/png": "[encoded data removed]",
      "text/plain": [
       "<Figure size 432x288 with 1 Axes>"
      ]
     },
     "metadata": {
      "needs_background": "light"
     },
     "output_type": "display_data"
    }
   ],
   "source": [
    "plot_roc_curve(bnb,x_test,bnb_yhat)"
   ]
  },
  {
   "cell_type": "code",
   "execution_count": 92,
   "metadata": {},
   "outputs": [],
   "source": [
    "from sklearn.model_selection import cross_val_score"
   ]
  },
  {
   "cell_type": "code",
   "execution_count": 93,
   "metadata": {},
   "outputs": [
    {
     "data": {
      "text/html": [
       "<div>\n",
       "<style scoped>\n",
       "    .dataframe tbody tr th:only-of-type {\n",
       "        vertical-align: middle;\n",
       "    }\n",
       "\n",
       "    .dataframe tbody tr th {\n",
       "        vertical-align: top;\n",
       "    }\n",
       "\n",
       "    .dataframe thead th {\n",
       "        text-align: right;\n",
       "    }\n",
       "</style>\n",
       "<table border=\"1\" class=\"dataframe\">\n",
       "  <thead>\n",
       "    <tr style=\"text-align: right;\">\n",
       "      <th></th>\n",
       "      <th>BernoulliNB</th>\n",
       "      <th>MultinomialNB</th>\n",
       "      <th>CategoricalNB</th>\n",
       "      <th>ComplementNB</th>\n",
       "      <th>GaussianNB</th>\n",
       "    </tr>\n",
       "  </thead>\n",
       "  <tbody>\n",
       "    <tr>\n",
       "      <th>Accuracy_score</th>\n",
       "      <td>0.866667</td>\n",
       "      <td>0.733333</td>\n",
       "      <td>0.466667</td>\n",
       "      <td>0.733333</td>\n",
       "      <td>0.666667</td>\n",
       "    </tr>\n",
       "  </tbody>\n",
       "</table>\n",
       "</div>"
      ],
      "text/plain": [
       "                BernoulliNB  MultinomialNB  CategoricalNB  ComplementNB  \\\n",
       "Accuracy_score     0.866667       0.733333       0.466667      0.733333   \n",
       "\n",
       "                GaussianNB  \n",
       "Accuracy_score    0.666667  "
      ]
     },
     "execution_count": 93,
     "metadata": {},
     "output_type": "execute_result"
    }
   ],
   "source": [
    "pd.DataFrame({\"BernoulliNB\":accuracy_score(y_test,yhat),\n",
    "              \"MultinomialNB\":accuracy_score(y_test,mnb_yhat),\n",
    "              \"CategoricalNB\":accuracy_score(y_test,ct_yhat),\n",
    "              \"ComplementNB\":accuracy_score(y_test,cnb_yhat),\n",
    "              \"GaussianNB\":accuracy_score(y_test,gnb_yhat)},index=[\"Accuracy_score\"])"
   ]
  },
  {
   "cell_type": "code",
   "execution_count": 94,
   "metadata": {},
   "outputs": [
    {
     "name": "stdout",
     "output_type": "stream",
     "text": [
      "Model name GaussianNB(priors=None, var_smoothing=1e-09)\n",
      "Model score 0.6\n",
      "******************************\n",
      "Model name KNeighborsClassifier(algorithm='auto', leaf_size=30, metric='minkowski',\n",
      "                     metric_params=None, n_jobs=None, n_neighbors=5, p=2,\n",
      "                     weights='uniform')\n",
      "Model score 0.7666666666666667\n",
      "******************************\n",
      "Model name LogisticRegression(C=1.0, class_weight=None, dual=False, fit_intercept=True,\n",
      "                   intercept_scaling=1, l1_ratio=None, max_iter=1000,\n",
      "                   multi_class='auto', n_jobs=None, penalty='l2',\n",
      "                   random_state=None, solver='lbfgs', tol=0.0001, verbose=0,\n",
      "                   warm_start=False)\n",
      "Model score 1.0\n",
      "******************************\n",
      "Model name ComplementNB(alpha=1.0, class_prior=None, fit_prior=True, norm=False)\n",
      "Model score 0.8\n",
      "******************************\n",
      "Model name MultinomialNB(alpha=1.0, class_prior=None, fit_prior=True)\n",
      "Model score 0.8\n",
      "******************************\n",
      "Model name BernoulliNB(alpha=1.0, binarize=0.0, class_prior=None, fit_prior=True)\n",
      "Model score 0.6\n",
      "******************************\n"
     ]
    }
   ],
   "source": [
    "from sklearn.model_selection import cross_val_score\n",
    "models = [gnb,knn,lr,cnb,mnb,bnb]\n",
    "for i in models:\n",
    "    cv = cross_val_score(i,x_train,y_train,cv=2)\n",
    "    print(\"Model name\",i)\n",
    "    print(\"Model score\",i.score(x_test,yhat))\n",
    "    print(\"*\"*30)"
   ]
  },
  {
   "cell_type": "markdown",
   "metadata": {},
   "source": [
    "# SVM"
   ]
  },
  {
   "cell_type": "code",
   "execution_count": 95,
   "metadata": {},
   "outputs": [],
   "source": [
    "\n",
    "from sklearn.svm import SVC"
   ]
  },
  {
   "cell_type": "code",
   "execution_count": 96,
   "metadata": {},
   "outputs": [],
   "source": [
    "model = SVC()"
   ]
  },
  {
   "cell_type": "code",
   "execution_count": 97,
   "metadata": {},
   "outputs": [
    {
     "data": {
      "text/plain": [
       "SVC(C=1.0, break_ties=False, cache_size=200, class_weight=None, coef0=0.0,\n",
       "    decision_function_shape='ovr', degree=3, gamma='scale', kernel='rbf',\n",
       "    max_iter=-1, probability=False, random_state=None, shrinking=True,\n",
       "    tol=0.001, verbose=False)"
      ]
     },
     "execution_count": 97,
     "metadata": {},
     "output_type": "execute_result"
    }
   ],
   "source": [
    "model.fit(x_train,y_train)"
   ]
  },
  {
   "cell_type": "code",
   "execution_count": 98,
   "metadata": {},
   "outputs": [
    {
     "data": {
      "text/plain": [
       "((90, 12288), (30, 12288), (90,), (30,))"
      ]
     },
     "execution_count": 98,
     "metadata": {},
     "output_type": "execute_result"
    }
   ],
   "source": [
    "x_train.shape,x_test.shape,y_train.shape,y_test.shape"
   ]
  },
  {
   "cell_type": "code",
   "execution_count": 99,
   "metadata": {},
   "outputs": [],
   "source": [
    "svm_pred = model.predict(x_test)"
   ]
  },
  {
   "cell_type": "code",
   "execution_count": 100,
   "metadata": {},
   "outputs": [
    {
     "data": {
      "text/plain": [
       "array([0, 1, 0, 0, 1, 0, 0, 0, 0, 0, 0, 1, 1, 1, 0, 0, 0, 1, 1, 1, 0, 0,\n",
       "       0, 1, 1, 0, 1, 1, 0, 1])"
      ]
     },
     "execution_count": 100,
     "metadata": {},
     "output_type": "execute_result"
    }
   ],
   "source": [
    "svm_pred"
   ]
  },
  {
   "cell_type": "code",
   "execution_count": 101,
   "metadata": {},
   "outputs": [],
   "source": [
    "comp = pd.DataFrame({\"Actual_data\":y_test,\n",
    "                    \"prediction\":svm_pred,\n",
    "                    \"Both_are_equal\":y_test==svm_pred})"
   ]
  },
  {
   "cell_type": "code",
   "execution_count": 102,
   "metadata": {},
   "outputs": [
    {
     "data": {
      "text/html": [
       "<div>\n",
       "<style scoped>\n",
       "    .dataframe tbody tr th:only-of-type {\n",
       "        vertical-align: middle;\n",
       "    }\n",
       "\n",
       "    .dataframe tbody tr th {\n",
       "        vertical-align: top;\n",
       "    }\n",
       "\n",
       "    .dataframe thead th {\n",
       "        text-align: right;\n",
       "    }\n",
       "</style>\n",
       "<table border=\"1\" class=\"dataframe\">\n",
       "  <thead>\n",
       "    <tr style=\"text-align: right;\">\n",
       "      <th></th>\n",
       "      <th>Actual_data</th>\n",
       "      <th>prediction</th>\n",
       "      <th>Both_are_equal</th>\n",
       "    </tr>\n",
       "  </thead>\n",
       "  <tbody>\n",
       "    <tr>\n",
       "      <th>0</th>\n",
       "      <td>0</td>\n",
       "      <td>0</td>\n",
       "      <td>True</td>\n",
       "    </tr>\n",
       "    <tr>\n",
       "      <th>1</th>\n",
       "      <td>1</td>\n",
       "      <td>1</td>\n",
       "      <td>True</td>\n",
       "    </tr>\n",
       "    <tr>\n",
       "      <th>2</th>\n",
       "      <td>1</td>\n",
       "      <td>0</td>\n",
       "      <td>False</td>\n",
       "    </tr>\n",
       "    <tr>\n",
       "      <th>3</th>\n",
       "      <td>1</td>\n",
       "      <td>0</td>\n",
       "      <td>False</td>\n",
       "    </tr>\n",
       "    <tr>\n",
       "      <th>4</th>\n",
       "      <td>1</td>\n",
       "      <td>1</td>\n",
       "      <td>True</td>\n",
       "    </tr>\n",
       "    <tr>\n",
       "      <th>5</th>\n",
       "      <td>0</td>\n",
       "      <td>0</td>\n",
       "      <td>True</td>\n",
       "    </tr>\n",
       "    <tr>\n",
       "      <th>6</th>\n",
       "      <td>0</td>\n",
       "      <td>0</td>\n",
       "      <td>True</td>\n",
       "    </tr>\n",
       "    <tr>\n",
       "      <th>7</th>\n",
       "      <td>0</td>\n",
       "      <td>0</td>\n",
       "      <td>True</td>\n",
       "    </tr>\n",
       "    <tr>\n",
       "      <th>8</th>\n",
       "      <td>0</td>\n",
       "      <td>0</td>\n",
       "      <td>True</td>\n",
       "    </tr>\n",
       "    <tr>\n",
       "      <th>9</th>\n",
       "      <td>0</td>\n",
       "      <td>0</td>\n",
       "      <td>True</td>\n",
       "    </tr>\n",
       "    <tr>\n",
       "      <th>10</th>\n",
       "      <td>0</td>\n",
       "      <td>0</td>\n",
       "      <td>True</td>\n",
       "    </tr>\n",
       "    <tr>\n",
       "      <th>11</th>\n",
       "      <td>1</td>\n",
       "      <td>1</td>\n",
       "      <td>True</td>\n",
       "    </tr>\n",
       "    <tr>\n",
       "      <th>12</th>\n",
       "      <td>1</td>\n",
       "      <td>1</td>\n",
       "      <td>True</td>\n",
       "    </tr>\n",
       "    <tr>\n",
       "      <th>13</th>\n",
       "      <td>1</td>\n",
       "      <td>1</td>\n",
       "      <td>True</td>\n",
       "    </tr>\n",
       "    <tr>\n",
       "      <th>14</th>\n",
       "      <td>0</td>\n",
       "      <td>0</td>\n",
       "      <td>True</td>\n",
       "    </tr>\n",
       "    <tr>\n",
       "      <th>15</th>\n",
       "      <td>0</td>\n",
       "      <td>0</td>\n",
       "      <td>True</td>\n",
       "    </tr>\n",
       "    <tr>\n",
       "      <th>16</th>\n",
       "      <td>1</td>\n",
       "      <td>0</td>\n",
       "      <td>False</td>\n",
       "    </tr>\n",
       "    <tr>\n",
       "      <th>17</th>\n",
       "      <td>1</td>\n",
       "      <td>1</td>\n",
       "      <td>True</td>\n",
       "    </tr>\n",
       "    <tr>\n",
       "      <th>18</th>\n",
       "      <td>1</td>\n",
       "      <td>1</td>\n",
       "      <td>True</td>\n",
       "    </tr>\n",
       "    <tr>\n",
       "      <th>19</th>\n",
       "      <td>1</td>\n",
       "      <td>1</td>\n",
       "      <td>True</td>\n",
       "    </tr>\n",
       "    <tr>\n",
       "      <th>20</th>\n",
       "      <td>1</td>\n",
       "      <td>0</td>\n",
       "      <td>False</td>\n",
       "    </tr>\n",
       "    <tr>\n",
       "      <th>21</th>\n",
       "      <td>0</td>\n",
       "      <td>0</td>\n",
       "      <td>True</td>\n",
       "    </tr>\n",
       "    <tr>\n",
       "      <th>22</th>\n",
       "      <td>0</td>\n",
       "      <td>0</td>\n",
       "      <td>True</td>\n",
       "    </tr>\n",
       "    <tr>\n",
       "      <th>23</th>\n",
       "      <td>0</td>\n",
       "      <td>1</td>\n",
       "      <td>False</td>\n",
       "    </tr>\n",
       "    <tr>\n",
       "      <th>24</th>\n",
       "      <td>1</td>\n",
       "      <td>1</td>\n",
       "      <td>True</td>\n",
       "    </tr>\n",
       "    <tr>\n",
       "      <th>25</th>\n",
       "      <td>0</td>\n",
       "      <td>0</td>\n",
       "      <td>True</td>\n",
       "    </tr>\n",
       "    <tr>\n",
       "      <th>26</th>\n",
       "      <td>1</td>\n",
       "      <td>1</td>\n",
       "      <td>True</td>\n",
       "    </tr>\n",
       "    <tr>\n",
       "      <th>27</th>\n",
       "      <td>1</td>\n",
       "      <td>1</td>\n",
       "      <td>True</td>\n",
       "    </tr>\n",
       "    <tr>\n",
       "      <th>28</th>\n",
       "      <td>0</td>\n",
       "      <td>0</td>\n",
       "      <td>True</td>\n",
       "    </tr>\n",
       "    <tr>\n",
       "      <th>29</th>\n",
       "      <td>1</td>\n",
       "      <td>1</td>\n",
       "      <td>True</td>\n",
       "    </tr>\n",
       "  </tbody>\n",
       "</table>\n",
       "</div>"
      ],
      "text/plain": [
       "    Actual_data  prediction  Both_are_equal\n",
       "0             0           0            True\n",
       "1             1           1            True\n",
       "2             1           0           False\n",
       "3             1           0           False\n",
       "4             1           1            True\n",
       "5             0           0            True\n",
       "6             0           0            True\n",
       "7             0           0            True\n",
       "8             0           0            True\n",
       "9             0           0            True\n",
       "10            0           0            True\n",
       "11            1           1            True\n",
       "12            1           1            True\n",
       "13            1           1            True\n",
       "14            0           0            True\n",
       "15            0           0            True\n",
       "16            1           0           False\n",
       "17            1           1            True\n",
       "18            1           1            True\n",
       "19            1           1            True\n",
       "20            1           0           False\n",
       "21            0           0            True\n",
       "22            0           0            True\n",
       "23            0           1           False\n",
       "24            1           1            True\n",
       "25            0           0            True\n",
       "26            1           1            True\n",
       "27            1           1            True\n",
       "28            0           0            True\n",
       "29            1           1            True"
      ]
     },
     "execution_count": 102,
     "metadata": {},
     "output_type": "execute_result"
    }
   ],
   "source": [
    "comp"
   ]
  },
  {
   "cell_type": "code",
   "execution_count": 103,
   "metadata": {},
   "outputs": [],
   "source": [
    "train_score = model.score(x_train,y_train)*100\n",
    "test_score = model.score(x_test,y_test)*100"
   ]
  },
  {
   "cell_type": "code",
   "execution_count": 104,
   "metadata": {},
   "outputs": [
    {
     "name": "stdout",
     "output_type": "stream",
     "text": [
      "training_score is 98.88888888888889\n",
      "test_score is 83.33333333333334\n"
     ]
    }
   ],
   "source": [
    "print(\"training_score is {}\".format(train_score))\n",
    "print(\"test_score is {}\".format(test_score))"
   ]
  },
  {
   "cell_type": "markdown",
   "metadata": {},
   "source": [
    "# Model Evaluation"
   ]
  },
  {
   "cell_type": "code",
   "execution_count": 105,
   "metadata": {},
   "outputs": [],
   "source": [
    "from sklearn.metrics import confusion_matrix,consensus_score,classification_report"
   ]
  },
  {
   "cell_type": "code",
   "execution_count": 106,
   "metadata": {},
   "outputs": [],
   "source": [
    "kernel = [\"linear\",\"poly\",\"rbf\",\"sigmoid\"]"
   ]
  },
  {
   "cell_type": "code",
   "execution_count": 107,
   "metadata": {},
   "outputs": [
    {
     "name": "stdout",
     "output_type": "stream",
     "text": [
      "\u001b[1mRight now my kernel is:- linear\n",
      "---------------------------------------------------------------------------\n",
      "My train score for this kernel is 1.0 \n",
      "Test score for this kernel is 0.8 \n",
      "Kernel score\n",
      "   Actual data  prediction\n",
      "0            0           0\n",
      "1            1           1\n",
      "2            1           0\n",
      "3            1           1\n",
      "4            1           1 \n",
      "\n",
      "classification report\n",
      "              precision    recall  f1-score   support\n",
      "\n",
      "           0       0.75      0.86      0.80        14\n",
      "           1       0.86      0.75      0.80        16\n",
      "\n",
      "    accuracy                           0.80        30\n",
      "   macro avg       0.80      0.80      0.80        30\n",
      "weighted avg       0.81      0.80      0.80        30\n",
      "\n",
      "confusion matrix\n"
     ]
    },
    {
     "data": {
      "image/png": "[encoded data removed]",
      "text/plain": [
       "<Figure size 432x288 with 2 Axes>"
      ]
     },
     "metadata": {
      "needs_background": "light"
     },
     "output_type": "display_data"
    },
    {
     "name": "stdout",
     "output_type": "stream",
     "text": [
      "\u001b[1mRight now my kernel is:- poly\n",
      "---------------------------------------------------------------------------\n",
      "My train score for this kernel is 1.0 \n",
      "Test score for this kernel is 0.9 \n",
      "Kernel score\n",
      "   Actual data  prediction\n",
      "0            0           0\n",
      "1            1           1\n",
      "2            1           0\n",
      "3            1           1\n",
      "4            1           1 \n",
      "\n",
      "classification report\n",
      "              precision    recall  f1-score   support\n",
      "\n",
      "           0       0.82      1.00      0.90        14\n",
      "           1       1.00      0.81      0.90        16\n",
      "\n",
      "    accuracy                           0.90        30\n",
      "   macro avg       0.91      0.91      0.90        30\n",
      "weighted avg       0.92      0.90      0.90        30\n",
      "\n",
      "confusion matrix\n"
     ]
    },
    {
     "data": {
      "image/png": "[encoded data removed]",
      "text/plain": [
       "<Figure size 432x288 with 2 Axes>"
      ]
     },
     "metadata": {
      "needs_background": "light"
     },
     "output_type": "display_data"
    },
    {
     "name": "stdout",
     "output_type": "stream",
     "text": [
      "\u001b[1mRight now my kernel is:- rbf\n",
      "---------------------------------------------------------------------------\n",
      "My train score for this kernel is 0.9888888888888889 \n",
      "Test score for this kernel is 0.8333333333333334 \n",
      "Kernel score\n",
      "   Actual data  prediction\n",
      "0            0           0\n",
      "1            1           1\n",
      "2            1           0\n",
      "3            1           0\n",
      "4            1           1 \n",
      "\n",
      "classification report\n",
      "              precision    recall  f1-score   support\n",
      "\n",
      "           0       0.76      0.93      0.84        14\n",
      "           1       0.92      0.75      0.83        16\n",
      "\n",
      "    accuracy                           0.83        30\n",
      "   macro avg       0.84      0.84      0.83        30\n",
      "weighted avg       0.85      0.83      0.83        30\n",
      "\n",
      "confusion matrix\n"
     ]
    },
    {
     "data": {
      "image/png": "[encoded data removed]",
      "text/plain": [
       "<Figure size 432x288 with 2 Axes>"
      ]
     },
     "metadata": {
      "needs_background": "light"
     },
     "output_type": "display_data"
    },
    {
     "name": "stdout",
     "output_type": "stream",
     "text": [
      "\u001b[1mRight now my kernel is:- sigmoid\n",
      "---------------------------------------------------------------------------\n",
      "My train score for this kernel is 0.5666666666666667 \n",
      "Test score for this kernel is 0.4666666666666667 \n",
      "Kernel score\n",
      "   Actual data  prediction\n",
      "0            0           0\n",
      "1            1           0\n",
      "2            1           0\n",
      "3            1           0\n",
      "4            1           0 \n",
      "\n",
      "classification report\n",
      "              precision    recall  f1-score   support\n",
      "\n",
      "           0       0.47      1.00      0.64        14\n",
      "           1       0.00      0.00      0.00        16\n",
      "\n",
      "    accuracy                           0.47        30\n",
      "   macro avg       0.23      0.50      0.32        30\n",
      "weighted avg       0.22      0.47      0.30        30\n",
      "\n",
      "confusion matrix\n"
     ]
    },
    {
     "name": "stderr",
     "output_type": "stream",
     "text": [
      "c:\\users\\91833\\appdata\\local\\programs\\python\\python37\\lib\\site-packages\\sklearn\\metrics\\_classification.py:1272: UndefinedMetricWarning: Precision and F-score are ill-defined and being set to 0.0 in labels with no predicted samples. Use `zero_division` parameter to control this behavior.\n",
      "  _warn_prf(average, modifier, msg_start, len(result))\n"
     ]
    },
    {
     "data": {
      "image/png": "[encoded data removed]",
      "text/plain": [
       "<Figure size 432x288 with 2 Axes>"
      ]
     },
     "metadata": {
      "needs_background": "light"
     },
     "output_type": "display_data"
    }
   ],
   "source": [
    "for i in kernel:\n",
    "    print('\\033[1m' + \"Right now my kernel is:- {}\".format(i))\n",
    "    print(\"---\"*25)\n",
    " \n",
    "    model_svc = SVC(kernel=i)\n",
    "    model_svc.fit(x_train,y_train)\n",
    "    t_score = model_svc.score(x_train,y_train)\n",
    "    ts_score = model_svc.score(x_test,y_test)\n",
    "    print(\"My train score for this kernel is {} \\nTest score for this kernel is {} \\nKernel score\".format(t_score,ts_score))\n",
    "    pred = model_svc.predict(x_test)\n",
    "    comp = pd.DataFrame({'Actual data':y_test,\n",
    "                      'prediction':pred})\n",
    "    print(comp.head(),'\\n')\n",
    "    print(\"classification report\")\n",
    "    print(classification_report(y_test,pred))\n",
    "    print(\"confusion matrix\")\n",
    "    cm = confusion_matrix(y_test,pred)\n",
    "    sns.heatmap(cm,annot=True)\n",
    "    plt.show()\n"
   ]
  },
  {
   "cell_type": "markdown",
   "metadata": {},
   "source": [
    "# Decision Tree "
   ]
  },
  {
   "cell_type": "code",
   "execution_count": 108,
   "metadata": {},
   "outputs": [],
   "source": [
    "from sklearn.tree import DecisionTreeClassifier"
   ]
  },
  {
   "cell_type": "code",
   "execution_count": 109,
   "metadata": {},
   "outputs": [],
   "source": [
    "DTC = DecisionTreeClassifier()"
   ]
  },
  {
   "cell_type": "code",
   "execution_count": 110,
   "metadata": {},
   "outputs": [
    {
     "data": {
      "text/plain": [
       "DecisionTreeClassifier(ccp_alpha=0.0, class_weight=None, criterion='gini',\n",
       "                       max_depth=None, max_features=None, max_leaf_nodes=None,\n",
       "                       min_impurity_decrease=0.0, min_impurity_split=None,\n",
       "                       min_samples_leaf=1, min_samples_split=2,\n",
       "                       min_weight_fraction_leaf=0.0, presort='deprecated',\n",
       "                       random_state=None, splitter='best')"
      ]
     },
     "execution_count": 110,
     "metadata": {},
     "output_type": "execute_result"
    }
   ],
   "source": [
    "DTC.fit(x_train,y_train)"
   ]
  },
  {
   "cell_type": "code",
   "execution_count": 111,
   "metadata": {},
   "outputs": [],
   "source": [
    "DTC_yhat = DTC.predict(x_test)"
   ]
  },
  {
   "cell_type": "code",
   "execution_count": 112,
   "metadata": {},
   "outputs": [
    {
     "data": {
      "text/plain": [
       "array([1, 1, 0, 1, 1, 0, 0, 0, 0, 0, 0, 1, 1, 1, 0, 1, 1, 1, 1, 1, 1, 1,\n",
       "       1, 0, 0, 0, 1, 1, 0, 1])"
      ]
     },
     "execution_count": 112,
     "metadata": {},
     "output_type": "execute_result"
    }
   ],
   "source": [
    "DTC_yhat"
   ]
  },
  {
   "cell_type": "code",
   "execution_count": 113,
   "metadata": {},
   "outputs": [],
   "source": [
    "importance = DTC.feature_importances_"
   ]
  },
  {
   "cell_type": "code",
   "execution_count": 119,
   "metadata": {},
   "outputs": [
    {
     "name": "stdout",
     "output_type": "stream",
     "text": [
      "feature: 939,score:0.08597\n",
      "\n",
      "feature: 2775,score:0.13923\n",
      "\n",
      "feature: 5507,score:0.18771\n",
      "\n",
      "feature: 9838,score:0.15083\n",
      "\n",
      "feature: 10840,score:0.14002\n",
      "\n",
      "feature: 12264,score:0.29623\n",
      "\n"
     ]
    }
   ],
   "source": [
    "importance_features = []\n",
    "for i,v in enumerate(importance):\n",
    "   # print('Feature: %0d, Score: %.5f' % (i,v))\n",
    "    if v > 0:\n",
    "        importance_features.append(i)\n",
    "        a=print(\"feature: %0d,score:%.5f\" % (i,v))\n",
    "        print()\n",
    "# plot feature importance\n",
    "# plt.bar([x for x in range(len(importance))],importance)\n",
    "# plt.show()"
   ]
  },
  {
   "cell_type": "code",
   "execution_count": 118,
   "metadata": {},
   "outputs": [
    {
     "name": "stdout",
     "output_type": "stream",
     "text": [
      "12287\n"
     ]
    }
   ],
   "source": [
    "print(i)"
   ]
  },
  {
   "cell_type": "code",
   "execution_count": 120,
   "metadata": {},
   "outputs": [
    {
     "name": "stdout",
     "output_type": "stream",
     "text": [
      "[939, 2775, 5507, 9838, 10840, 12264]\n"
     ]
    }
   ],
   "source": [
    "print(importance_features)"
   ]
  },
  {
   "cell_type": "code",
   "execution_count": 121,
   "metadata": {},
   "outputs": [],
   "source": [
    "from sklearn import tree"
   ]
  },
  {
   "cell_type": "code",
   "execution_count": 122,
   "metadata": {},
   "outputs": [
    {
     "data": {
      "text/plain": [
       "[Text(153.45000000000002, 190.26, 'X[12264] <= 0.287\\ngini = 0.491\\nsamples = 90\\nvalue = [51, 39]'),\n",
       " Text(83.7, 135.9, 'X[10840] <= 0.297\\ngini = 0.353\\nsamples = 35\\nvalue = [8, 27]'),\n",
       " Text(55.800000000000004, 81.53999999999999, 'X[2775] <= 0.51\\ngini = 0.473\\nsamples = 13\\nvalue = [8, 5]'),\n",
       " Text(27.900000000000002, 27.180000000000007, 'gini = 0.0\\nsamples = 5\\nvalue = [0, 5]'),\n",
       " Text(83.7, 27.180000000000007, 'gini = 0.0\\nsamples = 8\\nvalue = [8, 0]'),\n",
       " Text(111.60000000000001, 81.53999999999999, 'gini = 0.0\\nsamples = 22\\nvalue = [0, 22]'),\n",
       " Text(223.20000000000002, 135.9, 'X[5507] <= 0.37\\ngini = 0.341\\nsamples = 55\\nvalue = [43, 12]'),\n",
       " Text(167.4, 81.53999999999999, 'X[939] <= 0.219\\ngini = 0.095\\nsamples = 40\\nvalue = [38, 2]'),\n",
       " Text(139.5, 27.180000000000007, 'gini = 0.0\\nsamples = 2\\nvalue = [0, 2]'),\n",
       " Text(195.3, 27.180000000000007, 'gini = 0.0\\nsamples = 38\\nvalue = [38, 0]'),\n",
       " Text(279.0, 81.53999999999999, 'X[9838] <= 0.343\\ngini = 0.444\\nsamples = 15\\nvalue = [5, 10]'),\n",
       " Text(251.10000000000002, 27.180000000000007, 'gini = 0.0\\nsamples = 5\\nvalue = [5, 0]'),\n",
       " Text(306.90000000000003, 27.180000000000007, 'gini = 0.0\\nsamples = 10\\nvalue = [0, 10]')]"
      ]
     },
     "execution_count": 122,
     "metadata": {},
     "output_type": "execute_result"
    },
    {
     "data": {
      "image/png": "[encoded data removed]",
      "text/plain": [
       "<Figure size 432x288 with 1 Axes>"
      ]
     },
     "metadata": {
      "needs_background": "light"
     },
     "output_type": "display_data"
    }
   ],
   "source": [
    "tree.plot_tree(DTC)"
   ]
  },
  {
   "cell_type": "code",
   "execution_count": 123,
   "metadata": {},
   "outputs": [
    {
     "data": {
      "image/png": "[encoded data removed]",
      "text/plain": [
       "<Figure size 1152x648 with 1 Axes>"
      ]
     },
     "metadata": {
      "needs_background": "light"
     },
     "output_type": "display_data"
    }
   ],
   "source": [
    "plt.figure(figsize=(16,9))\n",
    "tree.plot_tree(DTC,filled=True)\n",
    "plt.show()"
   ]
  },
  {
   "cell_type": "code",
   "execution_count": null,
   "metadata": {},
   "outputs": [],
   "source": []
  }
 ],
 "metadata": {
  "kernelspec": {
   "display_name": "Python 3",
   "language": "python",
   "name": "python3"
  },
  "language_info": {
   "codemirror_mode": {
    "name": "ipython",
    "version": 3
   },
   "file_extension": ".py",
   "mimetype": "text/x-python",
   "name": "python",
   "nbconvert_exporter": "python",
   "pygments_lexer": "ipython3",
   "version": "3.7.5"
  }
 },
 "nbformat": 4,
 "nbformat_minor": 4
}
